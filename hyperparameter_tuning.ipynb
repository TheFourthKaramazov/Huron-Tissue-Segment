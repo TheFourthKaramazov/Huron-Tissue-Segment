{
 "cells": [
  {
   "cell_type": "code",
   "execution_count": 1,
   "id": "22f8d384-afda-4281-84df-4dac3782cc8b",
   "metadata": {},
   "outputs": [
    {
     "name": "stdout",
     "output_type": "stream",
     "text": [
      "Using device: cuda\n"
     ]
    }
   ],
   "source": [
    "import torch\n",
    "\n",
    "# Check if GPU is available\n",
    "device = torch.device(\"cuda\" if torch.cuda.is_available() else \"cpu\")\n",
    "print(f\"Using device: {device}\")"
   ]
  },
  {
   "cell_type": "code",
   "execution_count": 2,
   "id": "d332fcf5-40ef-49af-aa41-aa035c19ae36",
   "metadata": {},
   "outputs": [
    {
     "name": "stderr",
     "output_type": "stream",
     "text": [
      "/home/ubuntu/.local/lib/python3.10/site-packages/tqdm/auto.py:21: TqdmWarning: IProgress not found. Please update jupyter and ipywidgets. See https://ipywidgets.readthedocs.io/en/stable/user_install.html\n",
      "  from .autonotebook import tqdm as notebook_tqdm\n",
      "2024-11-25 15:49:49.522845: E external/local_xla/xla/stream_executor/cuda/cuda_fft.cc:485] Unable to register cuFFT factory: Attempting to register factory for plugin cuFFT when one has already been registered\n",
      "2024-11-25 15:49:49.539787: E external/local_xla/xla/stream_executor/cuda/cuda_dnn.cc:8454] Unable to register cuDNN factory: Attempting to register factory for plugin cuDNN when one has already been registered\n",
      "2024-11-25 15:49:49.545012: E external/local_xla/xla/stream_executor/cuda/cuda_blas.cc:1452] Unable to register cuBLAS factory: Attempting to register factory for plugin cuBLAS when one has already been registered\n"
     ]
    }
   ],
   "source": [
    "from transformers import Mask2FormerForUniversalSegmentation, Mask2FormerImageProcessor\n",
    "\n",
    "def get_pretrained_model(verbose=False):\n",
    "    \"\"\"\n",
    "    Get the Mask2Former model for binary segmentation\n",
    "    \n",
    "    COPIED DIRECTLY FROM train.ipynb\n",
    "    :return: Mask2Former model for binary segmentation and the image processor\n",
    "    \"\"\"\n",
    "    \n",
    "    # Load the image processor with relevant settings\n",
    "    # COPIED DIRECTLY FROM train.ipynb\n",
    "    image_processor = Mask2FormerImageProcessor.from_pretrained(\n",
    "        \"facebook/mask2former-swin-base-IN21k-ade-semantic\",\n",
    "        do_rescale=True,   # Skip rescaling if images are already normalized\n",
    "        do_normalize=False,  # DO NOT NORMALIZE. POOR RESULTS FOR BINARY SEGMENATATION.\n",
    "        do_resize=True     # Skip resizing as we're handling this during preprocessing\n",
    "    )\n",
    "    \n",
    "    # Load the Mask2Former model for binary segmentation\n",
    "    model = Mask2FormerForUniversalSegmentation.from_pretrained(\n",
    "        \"facebook/mask2former-swin-base-IN21k-ade-semantic\",\n",
    "        num_labels=2,                     # Binary segmentation (background and tissue)\n",
    "        ignore_mismatched_sizes=True      # Allow resizing of model parameters if dimensions do not match\n",
    "    )\n",
    "    \n",
    "    ###############################################\n",
    "    # Freezing encoder backbone if desired\n",
    "    ###############################################\n",
    "    \n",
    "    # Freeze the backbone of the Mask2Former model\n",
    "    for name, param in model.named_parameters():\n",
    "        if \"encoder\" in name:  # Match all layers within the encoder (backbone)\n",
    "            param.requires_grad = False\n",
    "    \n",
    "    # Display the trainable layers for confirmation\n",
    "    # Print trainable layers\n",
    "    if verbose:\n",
    "        for name, param in model.named_parameters():\n",
    "            if param.requires_grad:\n",
    "                print(f\"{name} is trainable\")\n",
    "            else:\n",
    "                print(f\"{name} is frozen\")\n",
    "            \n",
    "    return model, image_processor"
   ]
  },
  {
   "cell_type": "code",
   "execution_count": 3,
   "id": "9315ec2f-11bc-4e92-bebd-9fc7618013e6",
   "metadata": {},
   "outputs": [
    {
     "name": "stderr",
     "output_type": "stream",
     "text": [
      "/home/ubuntu/.local/lib/python3.10/site-packages/transformers/utils/deprecation.py:165: UserWarning: The following named arguments are not valid for `Mask2FormerImageProcessor.__init__` and were ignored: '_max_size'\n",
      "  return func(*args, **kwargs)\n",
      "Some weights of Mask2FormerForUniversalSegmentation were not initialized from the model checkpoint at facebook/mask2former-swin-base-IN21k-ade-semantic and are newly initialized because the shapes did not match:\n",
      "- class_predictor.weight: found shape torch.Size([151, 256]) in the checkpoint and torch.Size([3, 256]) in the model instantiated\n",
      "- class_predictor.bias: found shape torch.Size([151]) in the checkpoint and torch.Size([3]) in the model instantiated\n",
      "- criterion.empty_weight: found shape torch.Size([151]) in the checkpoint and torch.Size([3]) in the model instantiated\n",
      "You should probably TRAIN this model on a down-stream task to be able to use it for predictions and inference.\n"
     ]
    }
   ],
   "source": [
    "_, _ = get_pretrained_model()"
   ]
  },
  {
   "cell_type": "code",
   "execution_count": 4,
   "id": "8f6c6afc-efc1-4024-9250-8b427a3e128e",
   "metadata": {},
   "outputs": [],
   "source": [
    "import torch\n",
    "import torch.nn as nn\n",
    "import torch.optim as optim\n",
    "from tqdm import tqdm\n",
    "import numpy as np\n",
    "import torch.nn.functional as F\n",
    "from loss import *\n",
    "\n",
    "\n",
    "def calculate_metrics(output, target):\n",
    "    predicted_masks = (output > 0.5).cpu().numpy().astype(np.uint8)\n",
    "    ground_truth_masks_np = target.cpu().numpy().astype(np.uint8)\n",
    "\n",
    "    # Compute metrics\n",
    "    num_samples = 0\n",
    "    total_iou = 0\n",
    "    total_dice = 0\n",
    "    for pred, gt in zip(predicted_masks, ground_truth_masks_np):\n",
    "        total_iou += calculate_iou_infer(pred, gt)\n",
    "        total_dice += calculate_dice_infer(pred, gt)\n",
    "        num_samples += 1\n",
    "\n",
    "    # Calculate pixel accuracy\n",
    "    matching_pixels = torch.tensor(predicted_masks == ground_truth_masks_np).sum()  # Count matching pixels per batch\n",
    "    \n",
    "    # Total number of pixels per batch\n",
    "    total_pixels = torch.tensor(predicted_masks).numel()\n",
    "    \n",
    "    # Calculate pixel accuracy per batch\n",
    "    pixel_accuracy = float(matching_pixels) / total_pixels\n",
    "\n",
    "    # Calculate average loss and metrics\n",
    "    avg_iou = total_iou / num_samples if num_samples > 0 else 0\n",
    "    avg_dice = total_dice / num_samples if num_samples > 0 else 0\n",
    "\n",
    "    return avg_iou, avg_dice, pixel_accuracy\n",
    "    \n",
    "\n",
    "\n",
    "def train(model, train_loader, val_loader, criterion, optimizer, num_epochs=5, device=\"cuda\"):\n",
    "    \"\"\"\n",
    "    Training function with integrated validation after each epoch.\n",
    "\n",
    "    Args:\n",
    "        model: The segmentation model to train.\n",
    "        train_loader: DataLoader providing training images and masks.\n",
    "        val_loader: DataLoader providing validation images and masks.\n",
    "        criterion: Loss function for training and validation.\n",
    "        optimizer: Optimizer for updating model weights.\n",
    "        num_epochs: Number of training epochs.\n",
    "        device: Computation device (CPU or CUDA).\n",
    "    \"\"\"\n",
    "    train_metrics = {'loss': [], 'iou': [], 'dice': [], 'pixel_acc': []}\n",
    "    val_metrics = {'loss': [], 'iou': [], 'dice': [], 'pixel_acc': []}\n",
    "    model.to(device)\n",
    "    for epoch in range(num_epochs):\n",
    "        # Set model to training mode\n",
    "        model.train()\n",
    "        running_loss = 0.0\n",
    "        running_iou = 0.0\n",
    "        running_dice = 0.0\n",
    "        running_pixel_acc = 0.0\n",
    "\n",
    "        for pixel_values, masks in tqdm(train_loader, desc=f\"Epoch [{epoch+1}/{num_epochs}] Training\"):\n",
    "        \n",
    "            \n",
    "            # Move inputs and masks to the correct device\n",
    "            pixel_values = pixel_values.to(device, dtype=next(model.parameters()).dtype)  # Match model dtype\n",
    "            masks = masks.to(device, dtype=torch.float32)  # Ensure masks are on the correct device and float32\n",
    "\n",
    "            # Forward pass\n",
    "            outputs = model(pixel_values=pixel_values)\n",
    "            tissue_logits = outputs.masks_queries_logits[:, 1]  # Binary segmentation logits\n",
    "\n",
    "            # Resize logits to match masks\n",
    "            tissue_logits_resized = torch.sigmoid(F.interpolate(\n",
    "                tissue_logits.unsqueeze(1),  # Add channel dimension\n",
    "                size=masks.shape[-2:],  # Match mask size\n",
    "                mode=\"bilinear\",\n",
    "                align_corners=False\n",
    "            ))  # Remove channel dimension\n",
    "\n",
    "            # Compute loss\n",
    "            loss = criterion(tissue_logits_resized, masks)\n",
    "\n",
    "            # Backpropagation\n",
    "            optimizer.zero_grad()\n",
    "            loss.backward()\n",
    "            optimizer.step()\n",
    "\n",
    "            # Accumulate loss\n",
    "            running_loss += loss.item()\n",
    "\n",
    "            # Calculate metrics\n",
    "            iou, dice, pixel_accuracy = calculate_metrics(tissue_logits_resized, masks)\n",
    "            running_iou += iou\n",
    "            running_dice += dice\n",
    "            running_pixel_acc += pixel_accuracy\n",
    "\n",
    "        # Average training metrics\n",
    "        avg_train_loss = running_loss / len(train_loader)\n",
    "        avg_train_iou = running_iou / len(train_loader)\n",
    "        avg_train_dice = running_dice / len(train_loader)\n",
    "        avg_train_pixel_accuracy = running_pixel_acc / len(train_loader)\n",
    "        train_metrics['loss'].append(avg_train_loss)\n",
    "        train_metrics['iou'].append(avg_train_iou)\n",
    "        train_metrics['dice'].append(avg_train_dice)\n",
    "        train_metrics['pixel_acc'].append(avg_train_pixel_accuracy)\n",
    "        print(f\"Epoch [{epoch+1}/{num_epochs}], Training Loss: {avg_train_loss:.4f}, Training IoU: {avg_train_iou:.4f}, Training Dice: {avg_train_dice:.4f}, Training Pixel Acc: {avg_train_pixel_accuracy:.4f}\")\n",
    "\n",
    "        # Perform validation\n",
    "        avg_val_loss, avg_iou, avg_dice, avg_pixel_acc = validate(model, val_loader, criterion, device)\n",
    "        val_metrics['loss'].append(avg_val_loss)\n",
    "        val_metrics['iou'].append(avg_iou)\n",
    "        val_metrics['dice'].append(avg_dice)\n",
    "        val_metrics['pixel_acc'].append(avg_pixel_acc)\n",
    "\n",
    "        print(f\"Epoch [{epoch+1}/{num_epochs}] Validation - Loss: {avg_val_loss:.4f}, IoU: {avg_iou:.4f}, Dice: {avg_dice:.4f}, Pixel acc: {avg_pixel_acc}\\n\")\n",
    "\n",
    "        # Stop criteria\n",
    "        if avg_train_iou < 0.3:\n",
    "            print(\"Stopping criteria: not enough potential!\")\n",
    "            return train_metrics, val_metrics\n",
    "    \n",
    "    return train_metrics, val_metrics\n",
    "\n",
    "\n",
    "def validate(model, val_loader, criterion, device):\n",
    "    \"\"\"\n",
    "    Validation function aligned with inference logic, including IoU and Dice metric calculation.\n",
    "\n",
    "    Args:\n",
    "        model: The trained segmentation model.\n",
    "        val_loader: DataLoader providing validation images and ground truth masks.\n",
    "        criterion: Loss function for evaluation.\n",
    "        device: Computation device (CPU or CUDA).\n",
    "\n",
    "    Returns:\n",
    "        avg_val_loss: Average validation loss.\n",
    "        avg_iou: Average IoU across the validation set.\n",
    "        avg_dice: Average Dice score across the validation set.\n",
    "    \"\"\"\n",
    "    model.eval()\n",
    "    val_loss = 0.0\n",
    "    total_iou = 0.0\n",
    "    total_dice = 0.0\n",
    "    total_pixel_acc = 0.0\n",
    "    num_samples = 0\n",
    "\n",
    "    with torch.no_grad():\n",
    "        for images, ground_truth_masks in tqdm(val_loader, desc=\"Validation\"):\n",
    "            # Move inputs and masks to the correct device\n",
    "            images = images.to(device)\n",
    "            ground_truth_masks = ground_truth_masks.to(device, dtype=torch.float32)\n",
    "\n",
    "            # Forward pass\n",
    "            outputs = model(pixel_values=images)\n",
    "            tissue_logits = outputs.masks_queries_logits[:, 1]  # Binary segmentation logits\n",
    "\n",
    "            # Resize logits to match mask size\n",
    "            tissue_logits_resized = torch.sigmoid(F.interpolate(\n",
    "                tissue_logits.unsqueeze(1),  # Add channel dimension\n",
    "                size=ground_truth_masks.shape[-2:],  # Match mask size\n",
    "                mode=\"bilinear\",\n",
    "                align_corners=False\n",
    "            ))  # Remove channel dimension\n",
    "\n",
    "            # Compute loss\n",
    "            loss = criterion(tissue_logits_resized, ground_truth_masks)\n",
    "            val_loss += loss.item()\n",
    "\n",
    "            # Convert predicted logits to binary masks\n",
    "            predicted_masks = (tissue_logits_resized > 0.5).cpu().numpy().astype(np.uint8)\n",
    "            ground_truth_masks_np = ground_truth_masks.cpu().numpy().astype(np.uint8)\n",
    "\n",
    "            # Compute metrics\n",
    "            for pred, gt in zip(predicted_masks, ground_truth_masks_np):\n",
    "                total_iou += calculate_iou_infer(pred, gt)\n",
    "                total_dice += calculate_dice_infer(pred, gt)\n",
    "                num_samples += 1\n",
    "\n",
    "            matching_pixels = (predicted_masks == ground_truth_masks_np).sum()  # Count matching pixels per batch\n",
    "            total_pixels = torch.tensor(predicted_masks).numel()\n",
    "            total_pixel_acc += float(matching_pixels) / total_pixels\n",
    "\n",
    "    # Calculate average loss and metrics\n",
    "    avg_val_loss = val_loss / len(val_loader)\n",
    "    avg_val_pixel_acc = total_pixel_acc / len(val_loader)\n",
    "    avg_iou = total_iou / num_samples if num_samples > 0 else 0\n",
    "    avg_dice = total_dice / num_samples if num_samples > 0 else 0\n",
    "\n",
    "    return avg_val_loss, avg_iou, avg_dice, avg_val_pixel_acc"
   ]
  },
  {
   "cell_type": "code",
   "execution_count": 5,
   "id": "3da9c06d-273c-4aac-9b9b-2c5444304186",
   "metadata": {},
   "outputs": [],
   "source": [
    "import optuna\n",
    "#from train import train, validate \n",
    "from preprocess_altered import create_dataloaders\n",
    "from torch import optim\n",
    "from loss_altered import CombinedDiceBCELoss, DiceLoss, ScaledDiceLoss, BoundaryDiceLoss\n",
    "\n",
    "IMAGE_FOLDER = 'data/Sliced_Images/'\n",
    "MASK_FOLDER = 'data/Sliced_masks/'\n",
    "NUM_EPOCHS_PER_TRIAL = 5\n",
    "\n",
    "metrics = []\n",
    "\n",
    "def objective(trial):\n",
    "    print('Starting trial')\n",
    "\n",
    "    try:\n",
    "        ## Define the general hyperparameters\n",
    "        print('Defining hyperparameters')\n",
    "        criterions = trial.suggest_categorical('criterion', ['combined', 'dice', 'scaled', 'boundary'])\n",
    "        use_batch = trial.suggest_categorical('use_batches', ['true', 'false'])\n",
    "        if use_batch == 'true':\n",
    "            batch_size = trial.suggest_int('batch_size', 4, 16)\n",
    "        else:\n",
    "            batch_size = 1\n",
    "        \n",
    "        ## Get the model\n",
    "        print(\"Creating model and image processor\")\n",
    "        model, image_processor = get_pretrained_model()\n",
    "    \n",
    "        ## Get the dataloaders\n",
    "        print(\"Creating dataloaders\")\n",
    "        train_loader, val_loader, _, _, _ = create_dataloaders(IMAGE_FOLDER, MASK_FOLDER, batch_size, image_processor, divide=10)\n",
    "    \n",
    "        ## Define the optimizer and loss function\n",
    "        print(\"Defining optimizer\")\n",
    "        #lr = trial.suggest_float('lr', 1e-5, 1e-1, log=True)\n",
    "        weight_decay = trial.suggest_float('weight_decay', 1e-4, 1e-2, log=True)\n",
    "        optimizer = optim.AdamW(filter(lambda p: p.requires_grad, model.parameters()), lr=1e-4, weight_decay=weight_decay)\n",
    "            \n",
    "        ## Define the loss function\n",
    "        print(\"Defining loss function\")\n",
    "        smooth = trial.suggest_float('smooth', 1e-6, 1.0, log=True)\n",
    "        if criterions == 'combined':\n",
    "            dice_weight = trial.suggest_float('dice_weight_combined', 0.1, 0.9)\n",
    "            loss = CombinedDiceBCELoss(dice_weight, 1-dice_weight, smooth)\n",
    "        elif criterions == 'dice':\n",
    "            loss = DiceLoss(smooth)\n",
    "        elif criterions == 'scaled':\n",
    "            threshold_low_loss = trial.suggest_int('threshold_low_loss', 1, 50)\n",
    "            loss = ScaledDiceLoss(smooth, threshold_low_loss)\n",
    "        elif criterions == 'boundary':\n",
    "            threshold_low_loss = trial.suggest_int('threshold_low_loss', 1, 50)\n",
    "            boundary_weight = trial.suggest_float('boundary_weight', 0.01, 10, log=True)\n",
    "            loss = BoundaryDiceLoss(smooth, boundary_weight, threshold_low_loss)\n",
    "        else:\n",
    "            raise ValueError(\"Invalid criterion\")\n",
    "    \n",
    "        ## Train the model\n",
    "        print(\"Starting training\")\n",
    "        train_metrics, val_metrics = train(model, train_loader, val_loader, loss, optimizer, NUM_EPOCHS_PER_TRIAL, device)\n",
    "    \n",
    "        ## Validation\n",
    "        print(\"Starting validation\")\n",
    "        avg_val_loss, avg_iou, avg_dice, avg_val_pixel_acc = validate(model, val_loader, loss, device)\n",
    "        print(f\"Validation Loss: {avg_val_loss}, IoU: {avg_iou}, Dice: {avg_dice}, Pixel accuracy: {avg_val_pixel_acc}\")\n",
    "        \n",
    "        print(\"Trial complete\")\n",
    "    \n",
    "        # clean cache\n",
    "        del model, optimizer, image_processor, loss\n",
    "        torch.cuda.empty_cache()\n",
    "    \n",
    "        # add metrics to list\n",
    "        metrics.append({\n",
    "            \"trial\": trial,\n",
    "            \"train\": train_metrics,\n",
    "            \"val\": val_metrics\n",
    "        })\n",
    "        \n",
    "        return avg_iou\n",
    "    except Exception as e:\n",
    "        print(\"Error running trial. It will be skiped.\")\n",
    "        print(e)\n",
    "        return 0"
   ]
  },
  {
   "cell_type": "code",
   "execution_count": 8,
   "id": "e03e9252-3574-49f4-971d-27b5223ee171",
   "metadata": {},
   "outputs": [
    {
     "name": "stdout",
     "output_type": "stream",
     "text": [
      "Estimated completion time of 2.50 hours\n"
     ]
    }
   ],
   "source": [
    "NUM_TRIALS = 30\n",
    "\n",
    "print(f\"Estimated completion time of {NUM_TRIALS*NUM_EPOCHS_PER_TRIAL / 60:.2f} hours\") "
   ]
  },
  {
   "cell_type": "code",
   "execution_count": null,
   "id": "80a48b97-dfe3-4f64-86f4-bb7c6405d8d6",
   "metadata": {},
   "outputs": [
    {
     "name": "stderr",
     "output_type": "stream",
     "text": [
      "[I 2024-11-25 15:52:36,917] A new study created in memory with name: no-name-031225e9-9719-4d20-b06d-994546c72eb8\n"
     ]
    },
    {
     "name": "stdout",
     "output_type": "stream",
     "text": [
      "Starting trial\n",
      "Defining hyperparameters\n",
      "Creating model and image processor\n"
     ]
    },
    {
     "name": "stderr",
     "output_type": "stream",
     "text": [
      "Some weights of Mask2FormerForUniversalSegmentation were not initialized from the model checkpoint at facebook/mask2former-swin-base-IN21k-ade-semantic and are newly initialized because the shapes did not match:\n",
      "- class_predictor.weight: found shape torch.Size([151, 256]) in the checkpoint and torch.Size([3, 256]) in the model instantiated\n",
      "- class_predictor.bias: found shape torch.Size([151]) in the checkpoint and torch.Size([3]) in the model instantiated\n",
      "- criterion.empty_weight: found shape torch.Size([151]) in the checkpoint and torch.Size([3]) in the model instantiated\n",
      "You should probably TRAIN this model on a down-stream task to be able to use it for predictions and inference.\n"
     ]
    },
    {
     "name": "stdout",
     "output_type": "stream",
     "text": [
      "Creating dataloaders\n",
      "Defining optimizer\n",
      "Defining loss function\n",
      "Starting training\n"
     ]
    },
    {
     "name": "stderr",
     "output_type": "stream",
     "text": [
      "Epoch [1/5] Training: 100%|██████████| 1387/1387 [02:49<00:00,  8.20it/s]\n"
     ]
    },
    {
     "name": "stdout",
     "output_type": "stream",
     "text": [
      "Epoch [1/5], Training Loss: 0.3450, Training IoU: 0.6109, Training Dice: 0.7085, Training Pixel Acc: 0.9492\n"
     ]
    },
    {
     "name": "stderr",
     "output_type": "stream",
     "text": [
      "Validation: 100%|██████████| 347/347 [00:30<00:00, 11.26it/s]\n"
     ]
    },
    {
     "name": "stdout",
     "output_type": "stream",
     "text": [
      "Epoch [1/5] Validation - Loss: 0.2746, IoU: 0.6884, Dice: 0.7857, Pixel acc: 0.9727653041696686\n",
      "\n"
     ]
    },
    {
     "name": "stderr",
     "output_type": "stream",
     "text": [
      "Epoch [2/5] Training: 100%|██████████| 1387/1387 [02:47<00:00,  8.28it/s]\n"
     ]
    },
    {
     "name": "stdout",
     "output_type": "stream",
     "text": [
      "Epoch [2/5], Training Loss: 0.2826, Training IoU: 0.6779, Training Dice: 0.7723, Training Pixel Acc: 0.9621\n"
     ]
    },
    {
     "name": "stderr",
     "output_type": "stream",
     "text": [
      "Validation: 100%|██████████| 347/347 [00:30<00:00, 11.27it/s]\n"
     ]
    },
    {
     "name": "stdout",
     "output_type": "stream",
     "text": [
      "Epoch [2/5] Validation - Loss: 0.2967, IoU: 0.6470, Dice: 0.7567, Pixel acc: 0.9609513956119417\n",
      "\n"
     ]
    },
    {
     "name": "stderr",
     "output_type": "stream",
     "text": [
      "Epoch [3/5] Training: 100%|██████████| 1387/1387 [02:48<00:00,  8.25it/s]\n"
     ]
    },
    {
     "name": "stdout",
     "output_type": "stream",
     "text": [
      "Epoch [3/5], Training Loss: 0.2572, Training IoU: 0.7111, Training Dice: 0.8029, Training Pixel Acc: 0.9658\n"
     ]
    },
    {
     "name": "stderr",
     "output_type": "stream",
     "text": [
      "Validation: 100%|██████████| 347/347 [00:30<00:00, 11.44it/s]\n"
     ]
    },
    {
     "name": "stdout",
     "output_type": "stream",
     "text": [
      "Epoch [3/5] Validation - Loss: 0.2320, IoU: 0.7371, Dice: 0.8286, Pixel acc: 0.9762395589427233\n",
      "\n"
     ]
    },
    {
     "name": "stderr",
     "output_type": "stream",
     "text": [
      "Epoch [4/5] Training: 100%|██████████| 1387/1387 [02:46<00:00,  8.34it/s]\n"
     ]
    },
    {
     "name": "stdout",
     "output_type": "stream",
     "text": [
      "Epoch [4/5], Training Loss: 0.2391, Training IoU: 0.7310, Training Dice: 0.8204, Training Pixel Acc: 0.9698\n"
     ]
    },
    {
     "name": "stderr",
     "output_type": "stream",
     "text": [
      "Validation: 100%|██████████| 347/347 [00:31<00:00, 11.04it/s]\n"
     ]
    },
    {
     "name": "stdout",
     "output_type": "stream",
     "text": [
      "Epoch [4/5] Validation - Loss: 0.2277, IoU: 0.7480, Dice: 0.8365, Pixel acc: 0.9777963951616535\n",
      "\n"
     ]
    },
    {
     "name": "stderr",
     "output_type": "stream",
     "text": [
      "Epoch [5/5] Training: 100%|██████████| 1387/1387 [02:46<00:00,  8.33it/s]\n"
     ]
    },
    {
     "name": "stdout",
     "output_type": "stream",
     "text": [
      "Epoch [5/5], Training Loss: 0.2319, Training IoU: 0.7418, Training Dice: 0.8293, Training Pixel Acc: 0.9714\n"
     ]
    },
    {
     "name": "stderr",
     "output_type": "stream",
     "text": [
      "Validation: 100%|██████████| 347/347 [00:31<00:00, 10.90it/s]\n"
     ]
    },
    {
     "name": "stdout",
     "output_type": "stream",
     "text": [
      "Epoch [5/5] Validation - Loss: 0.2429, IoU: 0.7238, Dice: 0.8163, Pixel acc: 0.9742596980817724\n",
      "\n",
      "Starting validation\n"
     ]
    },
    {
     "name": "stderr",
     "output_type": "stream",
     "text": [
      "Validation: 100%|██████████| 347/347 [00:31<00:00, 10.88it/s]\n",
      "[I 2024-11-25 16:09:43,807] Trial 0 finished with value: 0.7238011772726863 and parameters: {'criterion': 'combined', 'use_batches': 'false', 'weight_decay': 0.0008610650866191089, 'smooth': 2.8842728484186537e-05, 'dice_weight_combined': 0.8759576133277219}. Best is trial 0 with value: 0.7238011772726863.\n"
     ]
    },
    {
     "name": "stdout",
     "output_type": "stream",
     "text": [
      "Validation Loss: 0.24286639339341554, IoU: 0.7238011772726863, Dice: 0.8163238340506196, Pixel accuracy: 0.9742596980817724\n",
      "Trial complete\n",
      "Starting trial\n",
      "Defining hyperparameters\n",
      "Creating model and image processor\n"
     ]
    },
    {
     "name": "stderr",
     "output_type": "stream",
     "text": [
      "Some weights of Mask2FormerForUniversalSegmentation were not initialized from the model checkpoint at facebook/mask2former-swin-base-IN21k-ade-semantic and are newly initialized because the shapes did not match:\n",
      "- class_predictor.weight: found shape torch.Size([151, 256]) in the checkpoint and torch.Size([3, 256]) in the model instantiated\n",
      "- class_predictor.bias: found shape torch.Size([151]) in the checkpoint and torch.Size([3]) in the model instantiated\n",
      "- criterion.empty_weight: found shape torch.Size([151]) in the checkpoint and torch.Size([3]) in the model instantiated\n",
      "You should probably TRAIN this model on a down-stream task to be able to use it for predictions and inference.\n"
     ]
    },
    {
     "name": "stdout",
     "output_type": "stream",
     "text": [
      "Creating dataloaders\n",
      "Defining optimizer\n",
      "Defining loss function\n",
      "Starting training\n"
     ]
    },
    {
     "name": "stderr",
     "output_type": "stream",
     "text": [
      "Epoch [1/5] Training: 100%|██████████| 1387/1387 [02:49<00:00,  8.17it/s]\n"
     ]
    },
    {
     "name": "stdout",
     "output_type": "stream",
     "text": [
      "Epoch [1/5], Training Loss: nan, Training IoU: 0.0922, Training Dice: 0.0934, Training Pixel Acc: 0.8745\n"
     ]
    },
    {
     "name": "stderr",
     "output_type": "stream",
     "text": [
      "Epoch [1/5] Training: 100%|██████████| 1387/1387 [02:48<00:00,  8.22it/s]\n"
     ]
    },
    {
     "name": "stdout",
     "output_type": "stream",
     "text": [
      "Epoch [1/5], Training Loss: 0.2755, Training IoU: 0.6379, Training Dice: 0.7355, Training Pixel Acc: 0.9494\n"
     ]
    },
    {
     "name": "stderr",
     "output_type": "stream",
     "text": [
      "Validation: 100%|██████████| 347/347 [00:31<00:00, 11.08it/s]\n"
     ]
    },
    {
     "name": "stdout",
     "output_type": "stream",
     "text": [
      "Epoch [1/5] Validation - Loss: 0.2137, IoU: 0.6783, Dice: 0.7700, Pixel acc: 0.9756781058627522\n",
      "\n"
     ]
    },
    {
     "name": "stderr",
     "output_type": "stream",
     "text": [
      "Epoch [2/5] Training: 100%|██████████| 1387/1387 [02:49<00:00,  8.16it/s]\n"
     ]
    },
    {
     "name": "stdout",
     "output_type": "stream",
     "text": [
      "Epoch [2/5], Training Loss: 0.2035, Training IoU: 0.7196, Training Dice: 0.8117, Training Pixel Acc: 0.9688\n"
     ]
    },
    {
     "name": "stderr",
     "output_type": "stream",
     "text": [
      "Validation: 100%|██████████| 347/347 [00:31<00:00, 10.90it/s]\n"
     ]
    },
    {
     "name": "stdout",
     "output_type": "stream",
     "text": [
      "Epoch [2/5] Validation - Loss: 0.1672, IoU: 0.7491, Dice: 0.8349, Pixel acc: 0.9775837395307997\n",
      "\n"
     ]
    },
    {
     "name": "stderr",
     "output_type": "stream",
     "text": [
      "Epoch [3/5] Training: 100%|██████████| 1387/1387 [02:51<00:00,  8.08it/s]\n"
     ]
    },
    {
     "name": "stdout",
     "output_type": "stream",
     "text": [
      "Epoch [3/5], Training Loss: 0.1979, Training IoU: 0.7215, Training Dice: 0.8108, Training Pixel Acc: 0.9691\n"
     ]
    },
    {
     "name": "stderr",
     "output_type": "stream",
     "text": [
      "Validation: 100%|██████████| 347/347 [00:30<00:00, 11.29it/s]\n"
     ]
    },
    {
     "name": "stdout",
     "output_type": "stream",
     "text": [
      "Epoch [3/5] Validation - Loss: 0.1694, IoU: 0.7366, Dice: 0.8225, Pixel acc: 0.979080244168768\n",
      "\n"
     ]
    },
    {
     "name": "stderr",
     "output_type": "stream",
     "text": [
      "Epoch [4/5] Training: 100%|██████████| 1387/1387 [02:51<00:00,  8.10it/s]\n"
     ]
    },
    {
     "name": "stdout",
     "output_type": "stream",
     "text": [
      "Epoch [4/5], Training Loss: 0.1809, Training IoU: 0.7453, Training Dice: 0.8328, Training Pixel Acc: 0.9727\n"
     ]
    },
    {
     "name": "stderr",
     "output_type": "stream",
     "text": [
      "Validation: 100%|██████████| 347/347 [00:31<00:00, 11.15it/s]\n"
     ]
    },
    {
     "name": "stdout",
     "output_type": "stream",
     "text": [
      "Epoch [4/5] Validation - Loss: 0.1670, IoU: 0.7609, Dice: 0.8456, Pixel acc: 0.9778767786383286\n",
      "\n"
     ]
    },
    {
     "name": "stderr",
     "output_type": "stream",
     "text": [
      "Epoch [5/5] Training: 100%|██████████| 1387/1387 [02:47<00:00,  8.26it/s]\n"
     ]
    },
    {
     "name": "stdout",
     "output_type": "stream",
     "text": [
      "Epoch [5/5], Training Loss: 0.1786, Training IoU: 0.7449, Training Dice: 0.8314, Training Pixel Acc: 0.9735\n"
     ]
    },
    {
     "name": "stderr",
     "output_type": "stream",
     "text": [
      "Validation: 100%|██████████| 347/347 [00:31<00:00, 11.01it/s]\n"
     ]
    },
    {
     "name": "stdout",
     "output_type": "stream",
     "text": [
      "Epoch [5/5] Validation - Loss: 0.1673, IoU: 0.7527, Dice: 0.8358, Pixel acc: 0.9788732171402197\n",
      "\n",
      "Starting validation\n"
     ]
    },
    {
     "name": "stderr",
     "output_type": "stream",
     "text": [
      "Validation: 100%|██████████| 347/347 [00:32<00:00, 10.81it/s]\n",
      "[I 2024-11-25 16:30:59,007] Trial 2 finished with value: 0.7527289400057015 and parameters: {'criterion': 'boundary', 'use_batches': 'false', 'weight_decay': 0.007912521516055822, 'smooth': 0.1367658814651175, 'threshold_low_loss': 22, 'boundary_weight': 0.04640222063499076}. Best is trial 2 with value: 0.7527289400057015.\n"
     ]
    },
    {
     "name": "stdout",
     "output_type": "stream",
     "text": [
      "Validation Loss: 0.1672847243540944, IoU: 0.7527289400057015, Dice: 0.8358379259521929, Pixel accuracy: 0.9788732171402197\n",
      "Trial complete\n",
      "Starting trial\n",
      "Defining hyperparameters\n",
      "Creating model and image processor\n"
     ]
    },
    {
     "name": "stderr",
     "output_type": "stream",
     "text": [
      "Some weights of Mask2FormerForUniversalSegmentation were not initialized from the model checkpoint at facebook/mask2former-swin-base-IN21k-ade-semantic and are newly initialized because the shapes did not match:\n",
      "- class_predictor.weight: found shape torch.Size([151, 256]) in the checkpoint and torch.Size([3, 256]) in the model instantiated\n",
      "- class_predictor.bias: found shape torch.Size([151]) in the checkpoint and torch.Size([3]) in the model instantiated\n",
      "- criterion.empty_weight: found shape torch.Size([151]) in the checkpoint and torch.Size([3]) in the model instantiated\n",
      "You should probably TRAIN this model on a down-stream task to be able to use it for predictions and inference.\n"
     ]
    },
    {
     "name": "stdout",
     "output_type": "stream",
     "text": [
      "Creating dataloaders\n",
      "Defining optimizer\n",
      "Defining loss function\n",
      "Starting training\n"
     ]
    },
    {
     "name": "stderr",
     "output_type": "stream",
     "text": [
      "Epoch [1/5] Training: 100%|██████████| 87/87 [01:27<00:00,  1.00s/it]\n"
     ]
    },
    {
     "name": "stdout",
     "output_type": "stream",
     "text": [
      "Epoch [1/5], Training Loss: 0.3789, Training IoU: 0.5226, Training Dice: 0.6197, Training Pixel Acc: 0.9279\n"
     ]
    },
    {
     "name": "stderr",
     "output_type": "stream",
     "text": [
      "Validation: 100%|██████████| 22/22 [00:18<00:00,  1.17it/s]\n"
     ]
    },
    {
     "name": "stdout",
     "output_type": "stream",
     "text": [
      "Epoch [1/5] Validation - Loss: 0.2653, IoU: 0.6939, Dice: 0.7884, Pixel acc: 0.970757208579828\n",
      "\n"
     ]
    },
    {
     "name": "stderr",
     "output_type": "stream",
     "text": [
      "Epoch [2/5] Training: 100%|██████████| 87/87 [01:27<00:00,  1.00s/it]\n"
     ]
    },
    {
     "name": "stdout",
     "output_type": "stream",
     "text": [
      "Epoch [2/5], Training Loss: 0.3161, Training IoU: 0.6184, Training Dice: 0.7206, Training Pixel Acc: 0.9588\n"
     ]
    },
    {
     "name": "stderr",
     "output_type": "stream",
     "text": [
      "Validation: 100%|██████████| 22/22 [00:18<00:00,  1.18it/s]\n"
     ]
    },
    {
     "name": "stdout",
     "output_type": "stream",
     "text": [
      "Epoch [2/5] Validation - Loss: 0.2577, IoU: 0.7316, Dice: 0.8214, Pixel acc: 0.9735222966217798\n",
      "\n"
     ]
    },
    {
     "name": "stderr",
     "output_type": "stream",
     "text": [
      "Epoch [3/5] Training: 100%|██████████| 87/87 [01:26<00:00,  1.00it/s]\n"
     ]
    },
    {
     "name": "stdout",
     "output_type": "stream",
     "text": [
      "Epoch [3/5], Training Loss: 0.2822, Training IoU: 0.6620, Training Dice: 0.7593, Training Pixel Acc: 0.9666\n"
     ]
    },
    {
     "name": "stderr",
     "output_type": "stream",
     "text": [
      "Validation: 100%|██████████| 22/22 [00:18<00:00,  1.17it/s]\n"
     ]
    },
    {
     "name": "stdout",
     "output_type": "stream",
     "text": [
      "Epoch [3/5] Validation - Loss: 0.2530, IoU: 0.7251, Dice: 0.8138, Pixel acc: 0.9751697098913272\n",
      "\n"
     ]
    },
    {
     "name": "stderr",
     "output_type": "stream",
     "text": [
      "Epoch [4/5] Training: 100%|██████████| 87/87 [01:26<00:00,  1.00it/s]\n"
     ]
    },
    {
     "name": "stdout",
     "output_type": "stream",
     "text": [
      "Epoch [4/5], Training Loss: 0.2731, Training IoU: 0.6835, Training Dice: 0.7771, Training Pixel Acc: 0.9688\n"
     ]
    },
    {
     "name": "stderr",
     "output_type": "stream",
     "text": [
      "Validation: 100%|██████████| 22/22 [00:18<00:00,  1.18it/s]\n"
     ]
    },
    {
     "name": "stdout",
     "output_type": "stream",
     "text": [
      "Epoch [4/5] Validation - Loss: 0.2599, IoU: 0.7190, Dice: 0.8084, Pixel acc: 0.9736605715160528\n",
      "\n"
     ]
    },
    {
     "name": "stderr",
     "output_type": "stream",
     "text": [
      "Epoch [5/5] Training: 100%|██████████| 87/87 [01:26<00:00,  1.00it/s]\n"
     ]
    },
    {
     "name": "stdout",
     "output_type": "stream",
     "text": [
      "Epoch [5/5], Training Loss: 0.2683, Training IoU: 0.6889, Training Dice: 0.7815, Training Pixel Acc: 0.9705\n"
     ]
    },
    {
     "name": "stderr",
     "output_type": "stream",
     "text": [
      "Validation: 100%|██████████| 22/22 [00:18<00:00,  1.17it/s]\n"
     ]
    },
    {
     "name": "stdout",
     "output_type": "stream",
     "text": [
      "Epoch [5/5] Validation - Loss: 0.2524, IoU: 0.7250, Dice: 0.8096, Pixel acc: 0.9744802112421713\n",
      "\n",
      "Starting validation\n"
     ]
    },
    {
     "name": "stderr",
     "output_type": "stream",
     "text": [
      "Validation: 100%|██████████| 22/22 [00:18<00:00,  1.18it/s]\n",
      "[I 2024-11-25 16:40:08,757] Trial 3 finished with value: 0.7249680179702263 and parameters: {'criterion': 'combined', 'use_batches': 'true', 'batch_size': 16, 'weight_decay': 0.0005923532344144861, 'smooth': 0.050496890725629, 'dice_weight_combined': 0.7382617643287424}. Best is trial 2 with value: 0.7527289400057015.\n"
     ]
    },
    {
     "name": "stdout",
     "output_type": "stream",
     "text": [
      "Validation Loss: 0.25243032520467584, IoU: 0.7249680179702263, Dice: 0.8095810217698594, Pixel accuracy: 0.9744802112421713\n",
      "Trial complete\n",
      "Starting trial\n",
      "Defining hyperparameters\n",
      "Creating model and image processor\n"
     ]
    },
    {
     "name": "stderr",
     "output_type": "stream",
     "text": [
      "Some weights of Mask2FormerForUniversalSegmentation were not initialized from the model checkpoint at facebook/mask2former-swin-base-IN21k-ade-semantic and are newly initialized because the shapes did not match:\n",
      "- class_predictor.weight: found shape torch.Size([151, 256]) in the checkpoint and torch.Size([3, 256]) in the model instantiated\n",
      "- class_predictor.bias: found shape torch.Size([151]) in the checkpoint and torch.Size([3]) in the model instantiated\n",
      "- criterion.empty_weight: found shape torch.Size([151]) in the checkpoint and torch.Size([3]) in the model instantiated\n",
      "You should probably TRAIN this model on a down-stream task to be able to use it for predictions and inference.\n"
     ]
    },
    {
     "name": "stdout",
     "output_type": "stream",
     "text": [
      "Creating dataloaders\n",
      "Defining optimizer\n",
      "Defining loss function\n",
      "Starting training\n"
     ]
    },
    {
     "name": "stderr",
     "output_type": "stream",
     "text": [
      "Epoch [1/5] Training: 100%|██████████| 278/278 [01:36<00:00,  2.89it/s]\n"
     ]
    },
    {
     "name": "stdout",
     "output_type": "stream",
     "text": [
      "Epoch [1/5], Training Loss: 0.8165, Training IoU: 0.0888, Training Dice: 0.0891, Training Pixel Acc: 0.8725\n"
     ]
    },
    {
     "name": "stderr",
     "output_type": "stream",
     "text": [
      "Validation: 100%|██████████| 70/70 [00:20<00:00,  3.49it/s]\n"
     ]
    },
    {
     "name": "stdout",
     "output_type": "stream",
     "text": [
      "Epoch [1/5] Validation - Loss: 0.8145, IoU: 0.0865, Dice: 0.0865, Pixel acc: 0.8652457101004464\n",
      "\n",
      "Stopping criteria: not enough potential!\n",
      "Starting validation\n"
     ]
    },
    {
     "name": "stderr",
     "output_type": "stream",
     "text": [
      "Validation: 100%|██████████| 70/70 [00:19<00:00,  3.50it/s]\n",
      "[I 2024-11-25 16:42:27,213] Trial 4 finished with value: 0.08645533141210375 and parameters: {'criterion': 'combined', 'use_batches': 'true', 'batch_size': 5, 'weight_decay': 0.008533763343593665, 'smooth': 1.02635214767426e-06, 'dice_weight_combined': 0.3955132767976718}. Best is trial 2 with value: 0.7527289400057015.\n"
     ]
    },
    {
     "name": "stdout",
     "output_type": "stream",
     "text": [
      "Validation Loss: 0.8145117734159742, IoU: 0.08645533141210375, Dice: 0.08645533141210375, Pixel accuracy: 0.8652457101004464\n",
      "Trial complete\n",
      "Starting trial\n",
      "Defining hyperparameters\n",
      "Creating model and image processor\n"
     ]
    },
    {
     "name": "stderr",
     "output_type": "stream",
     "text": [
      "Some weights of Mask2FormerForUniversalSegmentation were not initialized from the model checkpoint at facebook/mask2former-swin-base-IN21k-ade-semantic and are newly initialized because the shapes did not match:\n",
      "- class_predictor.weight: found shape torch.Size([151, 256]) in the checkpoint and torch.Size([3, 256]) in the model instantiated\n",
      "- class_predictor.bias: found shape torch.Size([151]) in the checkpoint and torch.Size([3]) in the model instantiated\n",
      "- criterion.empty_weight: found shape torch.Size([151]) in the checkpoint and torch.Size([3]) in the model instantiated\n",
      "You should probably TRAIN this model on a down-stream task to be able to use it for predictions and inference.\n"
     ]
    },
    {
     "name": "stdout",
     "output_type": "stream",
     "text": [
      "Creating dataloaders\n",
      "Defining optimizer\n",
      "Defining loss function\n",
      "Starting training\n"
     ]
    },
    {
     "name": "stderr",
     "output_type": "stream",
     "text": [
      "Epoch [1/5] Training: 100%|██████████| 1387/1387 [02:49<00:00,  8.19it/s]\n"
     ]
    },
    {
     "name": "stdout",
     "output_type": "stream",
     "text": [
      "Epoch [1/5], Training Loss: 0.3995, Training IoU: 0.6105, Training Dice: 0.7109, Training Pixel Acc: 0.9520\n"
     ]
    },
    {
     "name": "stderr",
     "output_type": "stream",
     "text": [
      "Validation: 100%|██████████| 347/347 [00:30<00:00, 11.36it/s]\n"
     ]
    },
    {
     "name": "stdout",
     "output_type": "stream",
     "text": [
      "Epoch [1/5] Validation - Loss: 0.3144, IoU: 0.7211, Dice: 0.8164, Pixel acc: 0.9707198349130943\n",
      "\n"
     ]
    },
    {
     "name": "stderr",
     "output_type": "stream",
     "text": [
      "Epoch [2/5] Training: 100%|██████████| 1387/1387 [02:49<00:00,  8.17it/s]\n"
     ]
    },
    {
     "name": "stdout",
     "output_type": "stream",
     "text": [
      "Epoch [2/5], Training Loss: 0.3327, Training IoU: 0.7005, Training Dice: 0.7950, Training Pixel Acc: 0.9672\n"
     ]
    },
    {
     "name": "stderr",
     "output_type": "stream",
     "text": [
      "Validation: 100%|██████████| 347/347 [00:30<00:00, 11.36it/s]\n"
     ]
    },
    {
     "name": "stdout",
     "output_type": "stream",
     "text": [
      "Epoch [2/5] Validation - Loss: 0.2921, IoU: 0.7586, Dice: 0.8460, Pixel acc: 0.974384406801603\n",
      "\n"
     ]
    },
    {
     "name": "stderr",
     "output_type": "stream",
     "text": [
      "Epoch [3/5] Training: 100%|██████████| 1387/1387 [02:47<00:00,  8.30it/s]\n"
     ]
    },
    {
     "name": "stdout",
     "output_type": "stream",
     "text": [
      "Epoch [3/5], Training Loss: 0.3232, Training IoU: 0.7145, Training Dice: 0.8071, Training Pixel Acc: 0.9688\n"
     ]
    },
    {
     "name": "stderr",
     "output_type": "stream",
     "text": [
      "Validation: 100%|██████████| 347/347 [00:30<00:00, 11.30it/s]\n"
     ]
    },
    {
     "name": "stdout",
     "output_type": "stream",
     "text": [
      "Epoch [3/5] Validation - Loss: 0.3159, IoU: 0.7239, Dice: 0.8169, Pixel acc: 0.9698964759320965\n",
      "\n"
     ]
    },
    {
     "name": "stderr",
     "output_type": "stream",
     "text": [
      "Epoch [4/5] Training: 100%|██████████| 1387/1387 [02:45<00:00,  8.37it/s]\n"
     ]
    },
    {
     "name": "stdout",
     "output_type": "stream",
     "text": [
      "Epoch [4/5], Training Loss: 0.3136, Training IoU: 0.7285, Training Dice: 0.8188, Training Pixel Acc: 0.9706\n"
     ]
    },
    {
     "name": "stderr",
     "output_type": "stream",
     "text": [
      "Validation: 100%|██████████| 347/347 [00:31<00:00, 11.18it/s]\n"
     ]
    },
    {
     "name": "stdout",
     "output_type": "stream",
     "text": [
      "Epoch [4/5] Validation - Loss: 0.3123, IoU: 0.7342, Dice: 0.8252, Pixel acc: 0.9719361406925432\n",
      "\n"
     ]
    },
    {
     "name": "stderr",
     "output_type": "stream",
     "text": [
      "Epoch [5/5] Training: 100%|██████████| 1387/1387 [02:48<00:00,  8.22it/s]\n"
     ]
    },
    {
     "name": "stdout",
     "output_type": "stream",
     "text": [
      "Epoch [5/5], Training Loss: 0.3135, Training IoU: 0.7272, Training Dice: 0.8181, Training Pixel Acc: 0.9710\n"
     ]
    },
    {
     "name": "stderr",
     "output_type": "stream",
     "text": [
      "Validation: 100%|██████████| 347/347 [00:30<00:00, 11.20it/s]\n"
     ]
    },
    {
     "name": "stdout",
     "output_type": "stream",
     "text": [
      "Epoch [5/5] Validation - Loss: 0.2924, IoU: 0.7615, Dice: 0.8456, Pixel acc: 0.9757991208123199\n",
      "\n",
      "Starting validation\n"
     ]
    },
    {
     "name": "stderr",
     "output_type": "stream",
     "text": [
      "Validation: 100%|██████████| 347/347 [00:31<00:00, 10.92it/s]\n",
      "[I 2024-11-25 16:59:35,660] Trial 5 finished with value: 0.7615033548042293 and parameters: {'criterion': 'combined', 'use_batches': 'false', 'weight_decay': 0.0010191510550188606, 'smooth': 1.1502645475569397e-06, 'dice_weight_combined': 0.7246735127341172}. Best is trial 5 with value: 0.7615033548042293.\n"
     ]
    },
    {
     "name": "stdout",
     "output_type": "stream",
     "text": [
      "Validation Loss: 0.2924199418221152, IoU: 0.7615033548042293, Dice: 0.8455515514316052, Pixel accuracy: 0.9757991208123199\n",
      "Trial complete\n",
      "Starting trial\n",
      "Defining hyperparameters\n",
      "Creating model and image processor\n"
     ]
    },
    {
     "name": "stderr",
     "output_type": "stream",
     "text": [
      "Some weights of Mask2FormerForUniversalSegmentation were not initialized from the model checkpoint at facebook/mask2former-swin-base-IN21k-ade-semantic and are newly initialized because the shapes did not match:\n",
      "- class_predictor.weight: found shape torch.Size([151, 256]) in the checkpoint and torch.Size([3, 256]) in the model instantiated\n",
      "- class_predictor.bias: found shape torch.Size([151]) in the checkpoint and torch.Size([3]) in the model instantiated\n",
      "- criterion.empty_weight: found shape torch.Size([151]) in the checkpoint and torch.Size([3]) in the model instantiated\n",
      "You should probably TRAIN this model on a down-stream task to be able to use it for predictions and inference.\n"
     ]
    },
    {
     "name": "stdout",
     "output_type": "stream",
     "text": [
      "Creating dataloaders\n",
      "Defining optimizer\n",
      "Defining loss function\n",
      "Starting training\n"
     ]
    },
    {
     "name": "stderr",
     "output_type": "stream",
     "text": [
      "Epoch [1/5] Training: 100%|██████████| 1387/1387 [02:46<00:00,  8.32it/s]\n"
     ]
    },
    {
     "name": "stdout",
     "output_type": "stream",
     "text": [
      "Epoch [1/5], Training Loss: 0.3605, Training IoU: 0.5985, Training Dice: 0.6961, Training Pixel Acc: 0.9451\n"
     ]
    },
    {
     "name": "stderr",
     "output_type": "stream",
     "text": [
      "Validation: 100%|██████████| 347/347 [00:31<00:00, 10.95it/s]\n"
     ]
    },
    {
     "name": "stdout",
     "output_type": "stream",
     "text": [
      "Epoch [1/5] Validation - Loss: 0.2444, IoU: 0.7381, Dice: 0.8250, Pixel acc: 0.975337927210915\n",
      "\n"
     ]
    },
    {
     "name": "stderr",
     "output_type": "stream",
     "text": [
      "Epoch [2/5] Training: 100%|██████████| 1387/1387 [02:50<00:00,  8.13it/s]\n"
     ]
    },
    {
     "name": "stdout",
     "output_type": "stream",
     "text": [
      "Epoch [2/5], Training Loss: 0.2710, Training IoU: 0.6975, Training Dice: 0.7935, Training Pixel Acc: 0.9631\n"
     ]
    },
    {
     "name": "stderr",
     "output_type": "stream",
     "text": [
      "Validation: 100%|██████████| 347/347 [00:30<00:00, 11.25it/s]\n"
     ]
    },
    {
     "name": "stdout",
     "output_type": "stream",
     "text": [
      "Epoch [2/5] Validation - Loss: 0.2298, IoU: 0.7548, Dice: 0.8387, Pixel acc: 0.9780718448869776\n",
      "\n"
     ]
    },
    {
     "name": "stderr",
     "output_type": "stream",
     "text": [
      "Epoch [3/5] Training: 100%|██████████| 1387/1387 [02:50<00:00,  8.13it/s]\n"
     ]
    },
    {
     "name": "stdout",
     "output_type": "stream",
     "text": [
      "Epoch [3/5], Training Loss: 0.2500, Training IoU: 0.7236, Training Dice: 0.8161, Training Pixel Acc: 0.9688\n"
     ]
    },
    {
     "name": "stderr",
     "output_type": "stream",
     "text": [
      "Validation: 100%|██████████| 347/347 [00:30<00:00, 11.38it/s]\n"
     ]
    },
    {
     "name": "stdout",
     "output_type": "stream",
     "text": [
      "Epoch [3/5] Validation - Loss: 0.2183, IoU: 0.7737, Dice: 0.8519, Pixel acc: 0.9799007888486131\n",
      "\n"
     ]
    },
    {
     "name": "stderr",
     "output_type": "stream",
     "text": [
      "Epoch [4/5] Training: 100%|██████████| 1387/1387 [02:49<00:00,  8.19it/s]\n"
     ]
    },
    {
     "name": "stdout",
     "output_type": "stream",
     "text": [
      "Epoch [4/5], Training Loss: 0.2482, Training IoU: 0.7268, Training Dice: 0.8181, Training Pixel Acc: 0.9702\n"
     ]
    },
    {
     "name": "stderr",
     "output_type": "stream",
     "text": [
      "Validation: 100%|██████████| 347/347 [00:30<00:00, 11.23it/s]\n"
     ]
    },
    {
     "name": "stdout",
     "output_type": "stream",
     "text": [
      "Epoch [4/5] Validation - Loss: 0.2540, IoU: 0.7302, Dice: 0.8141, Pixel acc: 0.9766451700963616\n",
      "\n"
     ]
    },
    {
     "name": "stderr",
     "output_type": "stream",
     "text": [
      "Epoch [5/5] Training: 100%|██████████| 1387/1387 [02:47<00:00,  8.29it/s]\n"
     ]
    },
    {
     "name": "stdout",
     "output_type": "stream",
     "text": [
      "Epoch [5/5], Training Loss: 0.2464, Training IoU: 0.7289, Training Dice: 0.8203, Training Pixel Acc: 0.9694\n"
     ]
    },
    {
     "name": "stderr",
     "output_type": "stream",
     "text": [
      "Validation: 100%|██████████| 347/347 [00:31<00:00, 11.08it/s]\n"
     ]
    },
    {
     "name": "stdout",
     "output_type": "stream",
     "text": [
      "Epoch [5/5] Validation - Loss: 0.2549, IoU: 0.7306, Dice: 0.8142, Pixel acc: 0.9787075251598523\n",
      "\n",
      "Starting validation\n"
     ]
    },
    {
     "name": "stderr",
     "output_type": "stream",
     "text": [
      "Validation: 100%|██████████| 347/347 [00:31<00:00, 10.99it/s]\n",
      "[I 2024-11-25 17:16:49,605] Trial 6 finished with value: 0.7306390903425679 and parameters: {'criterion': 'combined', 'use_batches': 'false', 'weight_decay': 0.0007228596124148163, 'smooth': 1.4474414597185646e-05, 'dice_weight_combined': 0.8613158824152641}. Best is trial 5 with value: 0.7615033548042293.\n"
     ]
    },
    {
     "name": "stdout",
     "output_type": "stream",
     "text": [
      "Validation Loss: 0.2548778888471532, IoU: 0.7306390903425679, Dice: 0.8142065001284013, Pixel accuracy: 0.9787075251598523\n",
      "Trial complete\n",
      "Starting trial\n",
      "Defining hyperparameters\n",
      "Creating model and image processor\n"
     ]
    },
    {
     "name": "stderr",
     "output_type": "stream",
     "text": [
      "Some weights of Mask2FormerForUniversalSegmentation were not initialized from the model checkpoint at facebook/mask2former-swin-base-IN21k-ade-semantic and are newly initialized because the shapes did not match:\n",
      "- class_predictor.weight: found shape torch.Size([151, 256]) in the checkpoint and torch.Size([3, 256]) in the model instantiated\n",
      "- class_predictor.bias: found shape torch.Size([151]) in the checkpoint and torch.Size([3]) in the model instantiated\n",
      "- criterion.empty_weight: found shape torch.Size([151]) in the checkpoint and torch.Size([3]) in the model instantiated\n",
      "You should probably TRAIN this model on a down-stream task to be able to use it for predictions and inference.\n"
     ]
    },
    {
     "name": "stdout",
     "output_type": "stream",
     "text": [
      "Creating dataloaders\n",
      "Defining optimizer\n",
      "Defining loss function\n",
      "Starting training\n"
     ]
    },
    {
     "name": "stderr",
     "output_type": "stream",
     "text": [
      "Epoch [1/5] Training: 100%|██████████| 1387/1387 [02:50<00:00,  8.15it/s]\n"
     ]
    },
    {
     "name": "stdout",
     "output_type": "stream",
     "text": [
      "Epoch [1/5], Training Loss: 1.7843, Training IoU: 0.6299, Training Dice: 0.7265, Training Pixel Acc: 0.9525\n"
     ]
    },
    {
     "name": "stderr",
     "output_type": "stream",
     "text": [
      "Validation: 100%|██████████| 347/347 [00:31<00:00, 11.17it/s]\n"
     ]
    },
    {
     "name": "stdout",
     "output_type": "stream",
     "text": [
      "Epoch [1/5] Validation - Loss: 1.3513, IoU: 0.6823, Dice: 0.7770, Pixel acc: 0.9712176144294848\n",
      "\n"
     ]
    },
    {
     "name": "stderr",
     "output_type": "stream",
     "text": [
      "Epoch [2/5] Training: 100%|██████████| 1387/1387 [02:51<00:00,  8.11it/s]\n"
     ]
    },
    {
     "name": "stdout",
     "output_type": "stream",
     "text": [
      "Epoch [2/5], Training Loss: 1.2053, Training IoU: 0.7218, Training Dice: 0.8141, Training Pixel Acc: 0.9686\n"
     ]
    },
    {
     "name": "stderr",
     "output_type": "stream",
     "text": [
      "Validation: 100%|██████████| 347/347 [00:30<00:00, 11.23it/s]\n"
     ]
    },
    {
     "name": "stdout",
     "output_type": "stream",
     "text": [
      "Epoch [2/5] Validation - Loss: 1.0890, IoU: 0.7423, Dice: 0.8288, Pixel acc: 0.9741867021456232\n",
      "\n"
     ]
    },
    {
     "name": "stderr",
     "output_type": "stream",
     "text": [
      "Epoch [3/5] Training: 100%|██████████| 1387/1387 [02:51<00:00,  8.09it/s]\n"
     ]
    },
    {
     "name": "stdout",
     "output_type": "stream",
     "text": [
      "Epoch [3/5], Training Loss: 1.0953, Training IoU: 0.7410, Training Dice: 0.8295, Training Pixel Acc: 0.9719\n"
     ]
    },
    {
     "name": "stderr",
     "output_type": "stream",
     "text": [
      "Validation: 100%|██████████| 347/347 [00:31<00:00, 11.03it/s]\n"
     ]
    },
    {
     "name": "stdout",
     "output_type": "stream",
     "text": [
      "Epoch [3/5] Validation - Loss: 0.8855, IoU: 0.7839, Dice: 0.8645, Pixel acc: 0.9792739032668408\n",
      "\n"
     ]
    },
    {
     "name": "stderr",
     "output_type": "stream",
     "text": [
      "Epoch [4/5] Training: 100%|██████████| 1387/1387 [02:50<00:00,  8.13it/s]\n"
     ]
    },
    {
     "name": "stdout",
     "output_type": "stream",
     "text": [
      "Epoch [4/5], Training Loss: 1.0732, Training IoU: 0.7413, Training Dice: 0.8285, Training Pixel Acc: 0.9723\n"
     ]
    },
    {
     "name": "stderr",
     "output_type": "stream",
     "text": [
      "Validation: 100%|██████████| 347/347 [00:30<00:00, 11.24it/s]\n"
     ]
    },
    {
     "name": "stdout",
     "output_type": "stream",
     "text": [
      "Epoch [4/5] Validation - Loss: 0.8608, IoU: 0.7926, Dice: 0.8716, Pixel acc: 0.9800990211860591\n",
      "\n"
     ]
    },
    {
     "name": "stderr",
     "output_type": "stream",
     "text": [
      "Epoch [5/5] Training: 100%|██████████| 1387/1387 [02:48<00:00,  8.24it/s]\n"
     ]
    },
    {
     "name": "stdout",
     "output_type": "stream",
     "text": [
      "Epoch [5/5], Training Loss: 1.0261, Training IoU: 0.7529, Training Dice: 0.8384, Training Pixel Acc: 0.9743\n"
     ]
    },
    {
     "name": "stderr",
     "output_type": "stream",
     "text": [
      "Validation: 100%|██████████| 347/347 [00:31<00:00, 11.16it/s]\n"
     ]
    },
    {
     "name": "stdout",
     "output_type": "stream",
     "text": [
      "Epoch [5/5] Validation - Loss: 0.8617, IoU: 0.7897, Dice: 0.8703, Pixel acc: 0.9803560020600685\n",
      "\n",
      "Starting validation\n"
     ]
    },
    {
     "name": "stderr",
     "output_type": "stream",
     "text": [
      "Validation: 100%|██████████| 347/347 [00:31<00:00, 10.86it/s]\n",
      "[I 2024-11-25 17:34:10,639] Trial 7 finished with value: 0.7896977721860255 and parameters: {'criterion': 'scaled', 'use_batches': 'false', 'weight_decay': 0.0013032347157458826, 'smooth': 0.31038665868329945, 'threshold_low_loss': 21}. Best is trial 7 with value: 0.7896977721860255.\n"
     ]
    },
    {
     "name": "stdout",
     "output_type": "stream",
     "text": [
      "Validation Loss: 0.8617429959799786, IoU: 0.7896977721860255, Dice: 0.8702968392300948, Pixel accuracy: 0.9803560020600685\n",
      "Trial complete\n",
      "Starting trial\n",
      "Defining hyperparameters\n",
      "Creating model and image processor\n"
     ]
    },
    {
     "name": "stderr",
     "output_type": "stream",
     "text": [
      "Some weights of Mask2FormerForUniversalSegmentation were not initialized from the model checkpoint at facebook/mask2former-swin-base-IN21k-ade-semantic and are newly initialized because the shapes did not match:\n",
      "- class_predictor.weight: found shape torch.Size([151, 256]) in the checkpoint and torch.Size([3, 256]) in the model instantiated\n",
      "- class_predictor.bias: found shape torch.Size([151]) in the checkpoint and torch.Size([3]) in the model instantiated\n",
      "- criterion.empty_weight: found shape torch.Size([151]) in the checkpoint and torch.Size([3]) in the model instantiated\n",
      "You should probably TRAIN this model on a down-stream task to be able to use it for predictions and inference.\n"
     ]
    },
    {
     "name": "stdout",
     "output_type": "stream",
     "text": [
      "Creating dataloaders\n",
      "Defining optimizer\n",
      "Defining loss function\n",
      "Starting training\n"
     ]
    },
    {
     "name": "stderr",
     "output_type": "stream",
     "text": [
      "Epoch [1/5] Training: 100%|██████████| 93/93 [01:27<00:00,  1.07it/s]\n"
     ]
    },
    {
     "name": "stdout",
     "output_type": "stream",
     "text": [
      "Epoch [1/5], Training Loss: 0.4963, Training IoU: 0.4824, Training Dice: 0.5767, Training Pixel Acc: 0.9170\n"
     ]
    },
    {
     "name": "stderr",
     "output_type": "stream",
     "text": [
      "Validation: 100%|██████████| 24/24 [00:18<00:00,  1.29it/s]\n"
     ]
    },
    {
     "name": "stdout",
     "output_type": "stream",
     "text": [
      "Epoch [1/5] Validation - Loss: 0.3952, IoU: 0.7039, Dice: 0.8033, Pixel acc: 0.9713844299316404\n",
      "\n"
     ]
    },
    {
     "name": "stderr",
     "output_type": "stream",
     "text": [
      "Epoch [2/5] Training: 100%|██████████| 93/93 [01:26<00:00,  1.07it/s]\n"
     ]
    },
    {
     "name": "stdout",
     "output_type": "stream",
     "text": [
      "Epoch [2/5], Training Loss: 0.4265, Training IoU: 0.6129, Training Dice: 0.7125, Training Pixel Acc: 0.9576\n"
     ]
    },
    {
     "name": "stderr",
     "output_type": "stream",
     "text": [
      "Validation: 100%|██████████| 24/24 [00:18<00:00,  1.28it/s]\n"
     ]
    },
    {
     "name": "stdout",
     "output_type": "stream",
     "text": [
      "Epoch [2/5] Validation - Loss: 0.3822, IoU: 0.7250, Dice: 0.8179, Pixel acc: 0.9759394327799478\n",
      "\n"
     ]
    },
    {
     "name": "stderr",
     "output_type": "stream",
     "text": [
      "Epoch [3/5] Training: 100%|██████████| 93/93 [01:26<00:00,  1.07it/s]\n"
     ]
    },
    {
     "name": "stdout",
     "output_type": "stream",
     "text": [
      "Epoch [3/5], Training Loss: 0.4149, Training IoU: 0.6389, Training Dice: 0.7360, Training Pixel Acc: 0.9627\n"
     ]
    },
    {
     "name": "stderr",
     "output_type": "stream",
     "text": [
      "Validation: 100%|██████████| 24/24 [00:18<00:00,  1.29it/s]\n"
     ]
    },
    {
     "name": "stdout",
     "output_type": "stream",
     "text": [
      "Epoch [3/5] Validation - Loss: 0.3809, IoU: 0.7185, Dice: 0.8108, Pixel acc: 0.9762679206000434\n",
      "\n"
     ]
    },
    {
     "name": "stderr",
     "output_type": "stream",
     "text": [
      "Epoch [4/5] Training: 100%|██████████| 93/93 [01:26<00:00,  1.08it/s]\n"
     ]
    },
    {
     "name": "stdout",
     "output_type": "stream",
     "text": [
      "Epoch [4/5], Training Loss: 0.4046, Training IoU: 0.6637, Training Dice: 0.7580, Training Pixel Acc: 0.9664\n"
     ]
    },
    {
     "name": "stderr",
     "output_type": "stream",
     "text": [
      "Validation: 100%|██████████| 24/24 [00:18<00:00,  1.29it/s]\n"
     ]
    },
    {
     "name": "stdout",
     "output_type": "stream",
     "text": [
      "Epoch [4/5] Validation - Loss: 0.3765, IoU: 0.7438, Dice: 0.8328, Pixel acc: 0.9782254536946614\n",
      "\n"
     ]
    },
    {
     "name": "stderr",
     "output_type": "stream",
     "text": [
      "Epoch [5/5] Training: 100%|██████████| 93/93 [01:26<00:00,  1.07it/s]\n"
     ]
    },
    {
     "name": "stdout",
     "output_type": "stream",
     "text": [
      "Epoch [5/5], Training Loss: 0.3994, Training IoU: 0.6859, Training Dice: 0.7799, Training Pixel Acc: 0.9684\n"
     ]
    },
    {
     "name": "stderr",
     "output_type": "stream",
     "text": [
      "Validation: 100%|██████████| 24/24 [00:18<00:00,  1.28it/s]\n"
     ]
    },
    {
     "name": "stdout",
     "output_type": "stream",
     "text": [
      "Epoch [5/5] Validation - Loss: 0.3755, IoU: 0.7341, Dice: 0.8226, Pixel acc: 0.9783549838595919\n",
      "\n",
      "Starting validation\n"
     ]
    },
    {
     "name": "stderr",
     "output_type": "stream",
     "text": [
      "Validation: 100%|██████████| 24/24 [00:18<00:00,  1.29it/s]\n",
      "[I 2024-11-25 17:43:18,239] Trial 8 finished with value: 0.7341475550393913 and parameters: {'criterion': 'combined', 'use_batches': 'true', 'batch_size': 15, 'weight_decay': 0.0029757890020771643, 'smooth': 0.00010583013014163493, 'dice_weight_combined': 0.5031920992238206}. Best is trial 7 with value: 0.7896977721860255.\n"
     ]
    },
    {
     "name": "stdout",
     "output_type": "stream",
     "text": [
      "Validation Loss: 0.3755146625141303, IoU: 0.7341475550393913, Dice: 0.8225670277048024, Pixel accuracy: 0.9783549838595919\n",
      "Trial complete\n",
      "Starting trial\n",
      "Defining hyperparameters\n",
      "Creating model and image processor\n"
     ]
    },
    {
     "name": "stderr",
     "output_type": "stream",
     "text": [
      "Some weights of Mask2FormerForUniversalSegmentation were not initialized from the model checkpoint at facebook/mask2former-swin-base-IN21k-ade-semantic and are newly initialized because the shapes did not match:\n",
      "- class_predictor.weight: found shape torch.Size([151, 256]) in the checkpoint and torch.Size([3, 256]) in the model instantiated\n",
      "- class_predictor.bias: found shape torch.Size([151]) in the checkpoint and torch.Size([3]) in the model instantiated\n",
      "- criterion.empty_weight: found shape torch.Size([151]) in the checkpoint and torch.Size([3]) in the model instantiated\n",
      "You should probably TRAIN this model on a down-stream task to be able to use it for predictions and inference.\n"
     ]
    },
    {
     "name": "stdout",
     "output_type": "stream",
     "text": [
      "Creating dataloaders\n",
      "Defining optimizer\n",
      "Defining loss function\n",
      "Starting training\n"
     ]
    },
    {
     "name": "stderr",
     "output_type": "stream",
     "text": [
      "Epoch [1/5] Training: 100%|██████████| 116/116 [01:27<00:00,  1.32it/s]\n"
     ]
    },
    {
     "name": "stdout",
     "output_type": "stream",
     "text": [
      "Epoch [1/5], Training Loss: 2.1293, Training IoU: 0.5000, Training Dice: 0.5933, Training Pixel Acc: 0.9280\n"
     ]
    },
    {
     "name": "stderr",
     "output_type": "stream",
     "text": [
      "Validation: 100%|██████████| 29/29 [00:18<00:00,  1.55it/s]\n"
     ]
    },
    {
     "name": "stdout",
     "output_type": "stream",
     "text": [
      "Epoch [1/5] Validation - Loss: 0.9946, IoU: 0.6913, Dice: 0.7821, Pixel acc: 0.969906638533095\n",
      "\n"
     ]
    },
    {
     "name": "stderr",
     "output_type": "stream",
     "text": [
      "Epoch [2/5] Training: 100%|██████████| 116/116 [01:27<00:00,  1.32it/s]\n"
     ]
    },
    {
     "name": "stdout",
     "output_type": "stream",
     "text": [
      "Epoch [2/5], Training Loss: 1.3566, Training IoU: 0.6298, Training Dice: 0.7303, Training Pixel Acc: 0.9608\n"
     ]
    },
    {
     "name": "stderr",
     "output_type": "stream",
     "text": [
      "Validation: 100%|██████████| 29/29 [00:18<00:00,  1.56it/s]\n"
     ]
    },
    {
     "name": "stdout",
     "output_type": "stream",
     "text": [
      "Epoch [2/5] Validation - Loss: 0.9116, IoU: 0.6809, Dice: 0.7699, Pixel acc: 0.9721016241091548\n",
      "\n"
     ]
    },
    {
     "name": "stderr",
     "output_type": "stream",
     "text": [
      "Epoch [3/5] Training: 100%|██████████| 116/116 [01:27<00:00,  1.33it/s]\n"
     ]
    },
    {
     "name": "stdout",
     "output_type": "stream",
     "text": [
      "Epoch [3/5], Training Loss: 1.3134, Training IoU: 0.6449, Training Dice: 0.7428, Training Pixel Acc: 0.9621\n"
     ]
    },
    {
     "name": "stderr",
     "output_type": "stream",
     "text": [
      "Validation: 100%|██████████| 29/29 [00:18<00:00,  1.57it/s]\n"
     ]
    },
    {
     "name": "stdout",
     "output_type": "stream",
     "text": [
      "Epoch [3/5] Validation - Loss: 0.9096, IoU: 0.7089, Dice: 0.7970, Pixel acc: 0.9721476077535185\n",
      "\n"
     ]
    },
    {
     "name": "stderr",
     "output_type": "stream",
     "text": [
      "Epoch [4/5] Training: 100%|██████████| 116/116 [01:28<00:00,  1.32it/s]\n"
     ]
    },
    {
     "name": "stdout",
     "output_type": "stream",
     "text": [
      "Epoch [4/5], Training Loss: 1.1252, Training IoU: 0.6737, Training Dice: 0.7711, Training Pixel Acc: 0.9664\n"
     ]
    },
    {
     "name": "stderr",
     "output_type": "stream",
     "text": [
      "Validation: 100%|██████████| 29/29 [00:18<00:00,  1.55it/s]\n"
     ]
    },
    {
     "name": "stdout",
     "output_type": "stream",
     "text": [
      "Epoch [4/5] Validation - Loss: 0.8423, IoU: 0.7178, Dice: 0.8050, Pixel acc: 0.9737119923813841\n",
      "\n"
     ]
    },
    {
     "name": "stderr",
     "output_type": "stream",
     "text": [
      "Epoch [5/5] Training: 100%|██████████| 116/116 [01:27<00:00,  1.32it/s]\n"
     ]
    },
    {
     "name": "stdout",
     "output_type": "stream",
     "text": [
      "Epoch [5/5], Training Loss: 1.0188, Training IoU: 0.6920, Training Dice: 0.7847, Training Pixel Acc: 0.9700\n"
     ]
    },
    {
     "name": "stderr",
     "output_type": "stream",
     "text": [
      "Validation: 100%|██████████| 29/29 [00:18<00:00,  1.53it/s]\n"
     ]
    },
    {
     "name": "stdout",
     "output_type": "stream",
     "text": [
      "Epoch [5/5] Validation - Loss: 0.8369, IoU: 0.7213, Dice: 0.8070, Pixel acc: 0.9744287568573667\n",
      "\n",
      "Starting validation\n"
     ]
    },
    {
     "name": "stderr",
     "output_type": "stream",
     "text": [
      "Validation: 100%|██████████| 29/29 [00:18<00:00,  1.57it/s]\n",
      "[I 2024-11-25 17:52:30,521] Trial 9 finished with value: 0.7213449831627584 and parameters: {'criterion': 'scaled', 'use_batches': 'true', 'batch_size': 12, 'weight_decay': 0.0005335226446100322, 'smooth': 0.1634998725428117, 'threshold_low_loss': 10}. Best is trial 7 with value: 0.7896977721860255.\n"
     ]
    },
    {
     "name": "stdout",
     "output_type": "stream",
     "text": [
      "Validation Loss: 0.8368520346181146, IoU: 0.7213449831627584, Dice: 0.8069704075552887, Pixel accuracy: 0.9744287568573667\n",
      "Trial complete\n",
      "Starting trial\n",
      "Defining hyperparameters\n",
      "Creating model and image processor\n"
     ]
    },
    {
     "name": "stderr",
     "output_type": "stream",
     "text": [
      "Some weights of Mask2FormerForUniversalSegmentation were not initialized from the model checkpoint at facebook/mask2former-swin-base-IN21k-ade-semantic and are newly initialized because the shapes did not match:\n",
      "- class_predictor.weight: found shape torch.Size([151, 256]) in the checkpoint and torch.Size([3, 256]) in the model instantiated\n",
      "- class_predictor.bias: found shape torch.Size([151]) in the checkpoint and torch.Size([3]) in the model instantiated\n",
      "- criterion.empty_weight: found shape torch.Size([151]) in the checkpoint and torch.Size([3]) in the model instantiated\n",
      "You should probably TRAIN this model on a down-stream task to be able to use it for predictions and inference.\n"
     ]
    },
    {
     "name": "stdout",
     "output_type": "stream",
     "text": [
      "Creating dataloaders\n",
      "Defining optimizer\n",
      "Defining loss function\n",
      "Starting training\n"
     ]
    },
    {
     "name": "stderr",
     "output_type": "stream",
     "text": [
      "Epoch [1/5] Training: 100%|██████████| 1387/1387 [02:49<00:00,  8.21it/s]\n"
     ]
    },
    {
     "name": "stdout",
     "output_type": "stream",
     "text": [
      "Epoch [1/5], Training Loss: 0.2860, Training IoU: 0.6170, Training Dice: 0.7159, Training Pixel Acc: 0.9512\n"
     ]
    },
    {
     "name": "stderr",
     "output_type": "stream",
     "text": [
      "Validation: 100%|██████████| 347/347 [00:31<00:00, 10.85it/s]\n"
     ]
    },
    {
     "name": "stdout",
     "output_type": "stream",
     "text": [
      "Epoch [1/5] Validation - Loss: 0.1725, IoU: 0.7414, Dice: 0.8301, Pixel acc: 0.9698320987932276\n",
      "\n"
     ]
    },
    {
     "name": "stderr",
     "output_type": "stream",
     "text": [
      "Epoch [2/5] Training: 100%|██████████| 1387/1387 [02:47<00:00,  8.28it/s]\n"
     ]
    },
    {
     "name": "stdout",
     "output_type": "stream",
     "text": [
      "Epoch [2/5], Training Loss: 0.1941, Training IoU: 0.7127, Training Dice: 0.8060, Training Pixel Acc: 0.9688\n"
     ]
    },
    {
     "name": "stderr",
     "output_type": "stream",
     "text": [
      "Validation: 100%|██████████| 347/347 [00:30<00:00, 11.39it/s]\n"
     ]
    },
    {
     "name": "stdout",
     "output_type": "stream",
     "text": [
      "Epoch [2/5] Validation - Loss: 0.1727, IoU: 0.7411, Dice: 0.8273, Pixel acc: 0.9730085653255583\n",
      "\n"
     ]
    },
    {
     "name": "stderr",
     "output_type": "stream",
     "text": [
      "Epoch [3/5] Training: 100%|██████████| 1387/1387 [02:47<00:00,  8.28it/s]\n"
     ]
    },
    {
     "name": "stdout",
     "output_type": "stream",
     "text": [
      "Epoch [3/5], Training Loss: 0.2063, Training IoU: 0.7024, Training Dice: 0.7945, Training Pixel Acc: 0.9656\n"
     ]
    },
    {
     "name": "stderr",
     "output_type": "stream",
     "text": [
      "Validation: 100%|██████████| 347/347 [00:31<00:00, 11.11it/s]\n"
     ]
    },
    {
     "name": "stdout",
     "output_type": "stream",
     "text": [
      "Epoch [3/5] Validation - Loss: 0.2280, IoU: 0.6749, Dice: 0.7719, Pixel acc: 0.969043742682817\n",
      "\n"
     ]
    },
    {
     "name": "stderr",
     "output_type": "stream",
     "text": [
      "Epoch [4/5] Training: 100%|██████████| 1387/1387 [02:48<00:00,  8.25it/s]\n"
     ]
    },
    {
     "name": "stdout",
     "output_type": "stream",
     "text": [
      "Epoch [4/5], Training Loss: 0.1821, Training IoU: 0.7265, Training Dice: 0.8179, Training Pixel Acc: 0.9704\n"
     ]
    },
    {
     "name": "stderr",
     "output_type": "stream",
     "text": [
      "Validation: 100%|██████████| 347/347 [00:31<00:00, 11.15it/s]\n"
     ]
    },
    {
     "name": "stdout",
     "output_type": "stream",
     "text": [
      "Epoch [4/5] Validation - Loss: 0.2152, IoU: 0.7012, Dice: 0.7876, Pixel acc: 0.9750802427616174\n",
      "\n"
     ]
    },
    {
     "name": "stderr",
     "output_type": "stream",
     "text": [
      "Epoch [5/5] Training: 100%|██████████| 1387/1387 [02:49<00:00,  8.19it/s]\n"
     ]
    },
    {
     "name": "stdout",
     "output_type": "stream",
     "text": [
      "Epoch [5/5], Training Loss: 0.1832, Training IoU: 0.7265, Training Dice: 0.8168, Training Pixel Acc: 0.9702\n"
     ]
    },
    {
     "name": "stderr",
     "output_type": "stream",
     "text": [
      "Validation: 100%|██████████| 347/347 [00:31<00:00, 10.96it/s]\n"
     ]
    },
    {
     "name": "stdout",
     "output_type": "stream",
     "text": [
      "Epoch [5/5] Validation - Loss: 0.1611, IoU: 0.7553, Dice: 0.8389, Pixel acc: 0.9750682819817184\n",
      "\n",
      "Starting validation\n"
     ]
    },
    {
     "name": "stderr",
     "output_type": "stream",
     "text": [
      "Validation: 100%|██████████| 347/347 [00:30<00:00, 11.29it/s]\n",
      "[I 2024-11-25 18:09:41,628] Trial 10 finished with value: 0.7552654130173031 and parameters: {'criterion': 'dice', 'use_batches': 'false', 'weight_decay': 0.00010326935890777747, 'smooth': 0.006475589933509938}. Best is trial 7 with value: 0.7896977721860255.\n"
     ]
    },
    {
     "name": "stdout",
     "output_type": "stream",
     "text": [
      "Validation Loss: 0.16110932414744705, IoU: 0.7552654130173031, Dice: 0.8388869080749731, Pixel accuracy: 0.9750682819817184\n",
      "Trial complete\n",
      "Starting trial\n",
      "Defining hyperparameters\n",
      "Creating model and image processor\n"
     ]
    },
    {
     "name": "stderr",
     "output_type": "stream",
     "text": [
      "Some weights of Mask2FormerForUniversalSegmentation were not initialized from the model checkpoint at facebook/mask2former-swin-base-IN21k-ade-semantic and are newly initialized because the shapes did not match:\n",
      "- class_predictor.weight: found shape torch.Size([151, 256]) in the checkpoint and torch.Size([3, 256]) in the model instantiated\n",
      "- class_predictor.bias: found shape torch.Size([151]) in the checkpoint and torch.Size([3]) in the model instantiated\n",
      "- criterion.empty_weight: found shape torch.Size([151]) in the checkpoint and torch.Size([3]) in the model instantiated\n",
      "You should probably TRAIN this model on a down-stream task to be able to use it for predictions and inference.\n"
     ]
    },
    {
     "name": "stdout",
     "output_type": "stream",
     "text": [
      "Creating dataloaders\n",
      "Defining optimizer\n",
      "Defining loss function\n",
      "Starting training\n"
     ]
    },
    {
     "name": "stderr",
     "output_type": "stream",
     "text": [
      "Epoch [1/5] Training: 100%|██████████| 1387/1387 [02:51<00:00,  8.10it/s]\n"
     ]
    },
    {
     "name": "stdout",
     "output_type": "stream",
     "text": [
      "Epoch [1/5], Training Loss: 1.6986, Training IoU: 0.6312, Training Dice: 0.7272, Training Pixel Acc: 0.9565\n"
     ]
    },
    {
     "name": "stderr",
     "output_type": "stream",
     "text": [
      "Validation: 100%|██████████| 347/347 [00:31<00:00, 11.18it/s]\n"
     ]
    },
    {
     "name": "stdout",
     "output_type": "stream",
     "text": [
      "Epoch [1/5] Validation - Loss: 1.0640, IoU: 0.7165, Dice: 0.8046, Pixel acc: 0.9751036366399496\n",
      "\n"
     ]
    },
    {
     "name": "stderr",
     "output_type": "stream",
     "text": [
      "Epoch [2/5] Training: 100%|██████████| 1387/1387 [02:50<00:00,  8.12it/s]\n"
     ]
    },
    {
     "name": "stdout",
     "output_type": "stream",
     "text": [
      "Epoch [2/5], Training Loss: 1.1691, Training IoU: 0.7238, Training Dice: 0.8139, Training Pixel Acc: 0.9695\n"
     ]
    },
    {
     "name": "stderr",
     "output_type": "stream",
     "text": [
      "Validation: 100%|██████████| 347/347 [00:30<00:00, 11.22it/s]\n"
     ]
    },
    {
     "name": "stdout",
     "output_type": "stream",
     "text": [
      "Epoch [2/5] Validation - Loss: 0.9305, IoU: 0.7580, Dice: 0.8422, Pixel acc: 0.9776781945132385\n",
      "\n"
     ]
    },
    {
     "name": "stderr",
     "output_type": "stream",
     "text": [
      "Epoch [3/5] Training: 100%|██████████| 1387/1387 [02:49<00:00,  8.18it/s]\n"
     ]
    },
    {
     "name": "stdout",
     "output_type": "stream",
     "text": [
      "Epoch [3/5], Training Loss: 1.0927, Training IoU: 0.7377, Training Dice: 0.8259, Training Pixel Acc: 0.9718\n"
     ]
    },
    {
     "name": "stderr",
     "output_type": "stream",
     "text": [
      "Validation: 100%|██████████| 347/347 [00:31<00:00, 11.04it/s]\n"
     ]
    },
    {
     "name": "stdout",
     "output_type": "stream",
     "text": [
      "Epoch [3/5] Validation - Loss: 1.0977, IoU: 0.7360, Dice: 0.8248, Pixel acc: 0.9709687246712896\n",
      "\n"
     ]
    },
    {
     "name": "stderr",
     "output_type": "stream",
     "text": [
      "Epoch [4/5] Training: 100%|██████████| 1387/1387 [02:50<00:00,  8.13it/s]\n"
     ]
    },
    {
     "name": "stdout",
     "output_type": "stream",
     "text": [
      "Epoch [4/5], Training Loss: 1.0177, Training IoU: 0.7526, Training Dice: 0.8382, Training Pixel Acc: 0.9740\n"
     ]
    },
    {
     "name": "stderr",
     "output_type": "stream",
     "text": [
      "Validation: 100%|██████████| 347/347 [00:31<00:00, 11.09it/s]\n"
     ]
    },
    {
     "name": "stdout",
     "output_type": "stream",
     "text": [
      "Epoch [4/5] Validation - Loss: 0.9452, IoU: 0.7497, Dice: 0.8348, Pixel acc: 0.9780495063715778\n",
      "\n"
     ]
    },
    {
     "name": "stderr",
     "output_type": "stream",
     "text": [
      "Epoch [5/5] Training: 100%|██████████| 1387/1387 [02:50<00:00,  8.13it/s]\n"
     ]
    },
    {
     "name": "stdout",
     "output_type": "stream",
     "text": [
      "Epoch [5/5], Training Loss: 0.9932, Training IoU: 0.7555, Training Dice: 0.8401, Training Pixel Acc: 0.9745\n"
     ]
    },
    {
     "name": "stderr",
     "output_type": "stream",
     "text": [
      "Validation: 100%|██████████| 347/347 [00:30<00:00, 11.26it/s]\n"
     ]
    },
    {
     "name": "stdout",
     "output_type": "stream",
     "text": [
      "Epoch [5/5] Validation - Loss: 0.8969, IoU: 0.7312, Dice: 0.8125, Pixel acc: 0.9793417982821506\n",
      "\n",
      "Starting validation\n"
     ]
    },
    {
     "name": "stderr",
     "output_type": "stream",
     "text": [
      "Validation: 100%|██████████| 347/347 [00:30<00:00, 11.24it/s]\n",
      "[I 2024-11-25 18:27:03,213] Trial 11 finished with value: 0.7312470077729594 and parameters: {'criterion': 'scaled', 'use_batches': 'false', 'weight_decay': 0.0023273721034769443, 'smooth': 0.001796735342679746, 'threshold_low_loss': 33}. Best is trial 7 with value: 0.7896977721860255.\n"
     ]
    },
    {
     "name": "stdout",
     "output_type": "stream",
     "text": [
      "Validation Loss: 0.896892031413183, IoU: 0.7312470077729594, Dice: 0.81253593772897, Pixel accuracy: 0.9793417982821506\n",
      "Trial complete\n",
      "Starting trial\n",
      "Defining hyperparameters\n",
      "Creating model and image processor\n"
     ]
    },
    {
     "name": "stderr",
     "output_type": "stream",
     "text": [
      "Some weights of Mask2FormerForUniversalSegmentation were not initialized from the model checkpoint at facebook/mask2former-swin-base-IN21k-ade-semantic and are newly initialized because the shapes did not match:\n",
      "- class_predictor.weight: found shape torch.Size([151, 256]) in the checkpoint and torch.Size([3, 256]) in the model instantiated\n",
      "- class_predictor.bias: found shape torch.Size([151]) in the checkpoint and torch.Size([3]) in the model instantiated\n",
      "- criterion.empty_weight: found shape torch.Size([151]) in the checkpoint and torch.Size([3]) in the model instantiated\n",
      "You should probably TRAIN this model on a down-stream task to be able to use it for predictions and inference.\n"
     ]
    },
    {
     "name": "stdout",
     "output_type": "stream",
     "text": [
      "Creating dataloaders\n",
      "Defining optimizer\n",
      "Defining loss function\n",
      "Starting training\n"
     ]
    },
    {
     "name": "stderr",
     "output_type": "stream",
     "text": [
      "Epoch [1/5] Training: 100%|██████████| 1387/1387 [02:50<00:00,  8.14it/s]\n"
     ]
    },
    {
     "name": "stdout",
     "output_type": "stream",
     "text": [
      "Epoch [1/5], Training Loss: 0.3130, Training IoU: 0.5915, Training Dice: 0.6911, Training Pixel Acc: 0.9449\n"
     ]
    },
    {
     "name": "stderr",
     "output_type": "stream",
     "text": [
      "Validation: 100%|██████████| 347/347 [00:31<00:00, 10.96it/s]\n"
     ]
    },
    {
     "name": "stdout",
     "output_type": "stream",
     "text": [
      "Epoch [1/5] Validation - Loss: 0.1694, IoU: 0.7446, Dice: 0.8363, Pixel acc: 0.9752513874504684\n",
      "\n"
     ]
    },
    {
     "name": "stderr",
     "output_type": "stream",
     "text": [
      "Epoch [2/5] Training: 100%|██████████| 1387/1387 [02:49<00:00,  8.16it/s]\n"
     ]
    },
    {
     "name": "stdout",
     "output_type": "stream",
     "text": [
      "Epoch [2/5], Training Loss: 0.2306, Training IoU: 0.6717, Training Dice: 0.7703, Training Pixel Acc: 0.9598\n"
     ]
    },
    {
     "name": "stderr",
     "output_type": "stream",
     "text": [
      "Validation: 100%|██████████| 347/347 [00:31<00:00, 10.97it/s]\n"
     ]
    },
    {
     "name": "stdout",
     "output_type": "stream",
     "text": [
      "Epoch [2/5] Validation - Loss: 0.1506, IoU: 0.7625, Dice: 0.8494, Pixel acc: 0.9769776094200289\n",
      "\n"
     ]
    },
    {
     "name": "stderr",
     "output_type": "stream",
     "text": [
      "Epoch [3/5] Training: 100%|██████████| 1387/1387 [02:49<00:00,  8.18it/s]\n"
     ]
    },
    {
     "name": "stdout",
     "output_type": "stream",
     "text": [
      "Epoch [3/5], Training Loss: 0.2099, Training IoU: 0.6966, Training Dice: 0.7913, Training Pixel Acc: 0.9637\n"
     ]
    },
    {
     "name": "stderr",
     "output_type": "stream",
     "text": [
      "Validation: 100%|██████████| 347/347 [00:30<00:00, 11.26it/s]\n"
     ]
    },
    {
     "name": "stdout",
     "output_type": "stream",
     "text": [
      "Epoch [3/5] Validation - Loss: 0.1430, IoU: 0.7742, Dice: 0.8570, Pixel acc: 0.9776379148279899\n",
      "\n"
     ]
    },
    {
     "name": "stderr",
     "output_type": "stream",
     "text": [
      "Epoch [4/5] Training: 100%|██████████| 1387/1387 [02:48<00:00,  8.23it/s]\n"
     ]
    },
    {
     "name": "stdout",
     "output_type": "stream",
     "text": [
      "Epoch [4/5], Training Loss: 0.1890, Training IoU: 0.7189, Training Dice: 0.8110, Training Pixel Acc: 0.9688\n"
     ]
    },
    {
     "name": "stderr",
     "output_type": "stream",
     "text": [
      "Validation: 100%|██████████| 347/347 [00:30<00:00, 11.36it/s]\n"
     ]
    },
    {
     "name": "stdout",
     "output_type": "stream",
     "text": [
      "Epoch [4/5] Validation - Loss: 0.1419, IoU: 0.7767, Dice: 0.8583, Pixel acc: 0.9796390588414084\n",
      "\n"
     ]
    },
    {
     "name": "stderr",
     "output_type": "stream",
     "text": [
      "Epoch [5/5] Training: 100%|██████████| 1387/1387 [02:49<00:00,  8.20it/s]\n"
     ]
    },
    {
     "name": "stdout",
     "output_type": "stream",
     "text": [
      "Epoch [5/5], Training Loss: 0.1992, Training IoU: 0.7076, Training Dice: 0.8015, Training Pixel Acc: 0.9676\n"
     ]
    },
    {
     "name": "stderr",
     "output_type": "stream",
     "text": [
      "Validation: 100%|██████████| 347/347 [00:30<00:00, 11.29it/s]\n"
     ]
    },
    {
     "name": "stdout",
     "output_type": "stream",
     "text": [
      "Epoch [5/5] Validation - Loss: 0.1495, IoU: 0.7640, Dice: 0.8505, Pixel acc: 0.9736985967894453\n",
      "\n",
      "Starting validation\n"
     ]
    },
    {
     "name": "stderr",
     "output_type": "stream",
     "text": [
      "Validation: 100%|██████████| 347/347 [00:30<00:00, 11.36it/s]\n",
      "[I 2024-11-25 18:44:19,023] Trial 12 finished with value: 0.7640295790483292 and parameters: {'criterion': 'dice', 'use_batches': 'false', 'weight_decay': 0.0022077653691149417, 'smooth': 1.1086819209536548e-06}. Best is trial 7 with value: 0.7896977721860255.\n"
     ]
    },
    {
     "name": "stdout",
     "output_type": "stream",
     "text": [
      "Validation Loss: 0.14947264441839211, IoU: 0.7640295790483292, Dice: 0.8505243109703884, Pixel accuracy: 0.9736985967894453\n",
      "Trial complete\n",
      "Starting trial\n",
      "Defining hyperparameters\n",
      "Creating model and image processor\n"
     ]
    },
    {
     "name": "stderr",
     "output_type": "stream",
     "text": [
      "Some weights of Mask2FormerForUniversalSegmentation were not initialized from the model checkpoint at facebook/mask2former-swin-base-IN21k-ade-semantic and are newly initialized because the shapes did not match:\n",
      "- class_predictor.weight: found shape torch.Size([151, 256]) in the checkpoint and torch.Size([3, 256]) in the model instantiated\n",
      "- class_predictor.bias: found shape torch.Size([151]) in the checkpoint and torch.Size([3]) in the model instantiated\n",
      "- criterion.empty_weight: found shape torch.Size([151]) in the checkpoint and torch.Size([3]) in the model instantiated\n",
      "You should probably TRAIN this model on a down-stream task to be able to use it for predictions and inference.\n"
     ]
    },
    {
     "name": "stdout",
     "output_type": "stream",
     "text": [
      "Creating dataloaders\n",
      "Defining optimizer\n",
      "Defining loss function\n",
      "Starting training\n"
     ]
    },
    {
     "name": "stderr",
     "output_type": "stream",
     "text": [
      "Epoch [1/5] Training: 100%|██████████| 1387/1387 [02:49<00:00,  8.20it/s]\n"
     ]
    },
    {
     "name": "stdout",
     "output_type": "stream",
     "text": [
      "Epoch [1/5], Training Loss: 0.2706, Training IoU: 0.6337, Training Dice: 0.7317, Training Pixel Acc: 0.9425\n"
     ]
    },
    {
     "name": "stderr",
     "output_type": "stream",
     "text": [
      "Validation: 100%|██████████| 347/347 [00:30<00:00, 11.35it/s]\n"
     ]
    },
    {
     "name": "stdout",
     "output_type": "stream",
     "text": [
      "Epoch [1/5] Validation - Loss: 0.2120, IoU: 0.7023, Dice: 0.7957, Pixel acc: 0.9739889974896434\n",
      "\n"
     ]
    },
    {
     "name": "stderr",
     "output_type": "stream",
     "text": [
      "Epoch [2/5] Training: 100%|██████████| 1387/1387 [02:48<00:00,  8.22it/s]\n"
     ]
    },
    {
     "name": "stdout",
     "output_type": "stream",
     "text": [
      "Epoch [2/5], Training Loss: 0.2119, Training IoU: 0.6952, Training Dice: 0.7888, Training Pixel Acc: 0.9664\n"
     ]
    },
    {
     "name": "stderr",
     "output_type": "stream",
     "text": [
      "Validation: 100%|██████████| 347/347 [00:30<00:00, 11.35it/s]\n"
     ]
    },
    {
     "name": "stdout",
     "output_type": "stream",
     "text": [
      "Epoch [2/5] Validation - Loss: 0.1532, IoU: 0.7594, Dice: 0.8467, Pixel acc: 0.9761662112189301\n",
      "\n"
     ]
    },
    {
     "name": "stderr",
     "output_type": "stream",
     "text": [
      "Epoch [3/5] Training: 100%|██████████| 1387/1387 [02:49<00:00,  8.18it/s]\n"
     ]
    },
    {
     "name": "stdout",
     "output_type": "stream",
     "text": [
      "Epoch [3/5], Training Loss: 0.1950, Training IoU: 0.7145, Training Dice: 0.8053, Training Pixel Acc: 0.9681\n"
     ]
    },
    {
     "name": "stderr",
     "output_type": "stream",
     "text": [
      "Validation: 100%|██████████| 347/347 [00:31<00:00, 10.86it/s]\n"
     ]
    },
    {
     "name": "stdout",
     "output_type": "stream",
     "text": [
      "Epoch [3/5] Validation - Loss: 0.1445, IoU: 0.7715, Dice: 0.8555, Pixel acc: 0.9792082948712176\n",
      "\n"
     ]
    },
    {
     "name": "stderr",
     "output_type": "stream",
     "text": [
      "Epoch [4/5] Training: 100%|██████████| 1387/1387 [02:49<00:00,  8.19it/s]\n"
     ]
    },
    {
     "name": "stdout",
     "output_type": "stream",
     "text": [
      "Epoch [4/5], Training Loss: 0.1734, Training IoU: 0.7377, Training Dice: 0.8266, Training Pixel Acc: 0.9707\n"
     ]
    },
    {
     "name": "stderr",
     "output_type": "stream",
     "text": [
      "Validation: 100%|██████████| 347/347 [00:30<00:00, 11.32it/s]\n"
     ]
    },
    {
     "name": "stdout",
     "output_type": "stream",
     "text": [
      "Epoch [4/5] Validation - Loss: 0.1429, IoU: 0.7734, Dice: 0.8572, Pixel acc: 0.9788215043565381\n",
      "\n"
     ]
    },
    {
     "name": "stderr",
     "output_type": "stream",
     "text": [
      "Epoch [5/5] Training: 100%|██████████| 1387/1387 [02:46<00:00,  8.35it/s]\n"
     ]
    },
    {
     "name": "stdout",
     "output_type": "stream",
     "text": [
      "Epoch [5/5], Training Loss: 0.1868, Training IoU: 0.7220, Training Dice: 0.8134, Training Pixel Acc: 0.9678\n"
     ]
    },
    {
     "name": "stderr",
     "output_type": "stream",
     "text": [
      "Validation: 100%|██████████| 347/347 [00:31<00:00, 11.10it/s]\n"
     ]
    },
    {
     "name": "stdout",
     "output_type": "stream",
     "text": [
      "Epoch [5/5] Validation - Loss: 0.1562, IoU: 0.7560, Dice: 0.8438, Pixel acc: 0.976951753028188\n",
      "\n",
      "Starting validation\n"
     ]
    },
    {
     "name": "stderr",
     "output_type": "stream",
     "text": [
      "Validation: 100%|██████████| 347/347 [00:31<00:00, 10.96it/s]\n",
      "[I 2024-11-25 19:01:30,758] Trial 13 finished with value: 0.7559504657450047 and parameters: {'criterion': 'dice', 'use_batches': 'false', 'weight_decay': 0.0023590878065985303, 'smooth': 0.012088086845097011}. Best is trial 7 with value: 0.7896977721860255.\n"
     ]
    },
    {
     "name": "stdout",
     "output_type": "stream",
     "text": [
      "Validation Loss: 0.1562234087704925, IoU: 0.7559504657450047, Dice: 0.8437674583992716, Pixel accuracy: 0.976951753028188\n",
      "Trial complete\n",
      "Starting trial\n",
      "Defining hyperparameters\n",
      "Creating model and image processor\n"
     ]
    },
    {
     "name": "stderr",
     "output_type": "stream",
     "text": [
      "Some weights of Mask2FormerForUniversalSegmentation were not initialized from the model checkpoint at facebook/mask2former-swin-base-IN21k-ade-semantic and are newly initialized because the shapes did not match:\n",
      "- class_predictor.weight: found shape torch.Size([151, 256]) in the checkpoint and torch.Size([3, 256]) in the model instantiated\n",
      "- class_predictor.bias: found shape torch.Size([151]) in the checkpoint and torch.Size([3]) in the model instantiated\n",
      "- criterion.empty_weight: found shape torch.Size([151]) in the checkpoint and torch.Size([3]) in the model instantiated\n",
      "You should probably TRAIN this model on a down-stream task to be able to use it for predictions and inference.\n"
     ]
    },
    {
     "name": "stdout",
     "output_type": "stream",
     "text": [
      "Creating dataloaders\n",
      "Defining optimizer\n",
      "Defining loss function\n",
      "Starting training\n"
     ]
    },
    {
     "name": "stderr",
     "output_type": "stream",
     "text": [
      "Epoch [1/5] Training: 100%|██████████| 1387/1387 [02:49<00:00,  8.19it/s]\n"
     ]
    },
    {
     "name": "stdout",
     "output_type": "stream",
     "text": [
      "Epoch [1/5], Training Loss: 0.2669, Training IoU: 0.6313, Training Dice: 0.7300, Training Pixel Acc: 0.9527\n"
     ]
    },
    {
     "name": "stderr",
     "output_type": "stream",
     "text": [
      "Validation: 100%|██████████| 347/347 [00:31<00:00, 11.06it/s]\n"
     ]
    },
    {
     "name": "stdout",
     "output_type": "stream",
     "text": [
      "Epoch [1/5] Validation - Loss: 0.1772, IoU: 0.7284, Dice: 0.8192, Pixel acc: 0.9703606597284762\n",
      "\n"
     ]
    },
    {
     "name": "stderr",
     "output_type": "stream",
     "text": [
      "Epoch [2/5] Training: 100%|██████████| 1387/1387 [02:48<00:00,  8.23it/s]\n"
     ]
    },
    {
     "name": "stdout",
     "output_type": "stream",
     "text": [
      "Epoch [2/5], Training Loss: 0.1909, Training IoU: 0.7132, Training Dice: 0.8071, Training Pixel Acc: 0.9663\n"
     ]
    },
    {
     "name": "stderr",
     "output_type": "stream",
     "text": [
      "Validation: 100%|██████████| 347/347 [00:31<00:00, 11.03it/s]\n"
     ]
    },
    {
     "name": "stdout",
     "output_type": "stream",
     "text": [
      "Epoch [2/5] Validation - Loss: 0.1522, IoU: 0.7594, Dice: 0.8436, Pixel acc: 0.9759433537463977\n",
      "\n"
     ]
    },
    {
     "name": "stderr",
     "output_type": "stream",
     "text": [
      "Epoch [3/5] Training: 100%|██████████| 1387/1387 [02:48<00:00,  8.22it/s]\n"
     ]
    },
    {
     "name": "stdout",
     "output_type": "stream",
     "text": [
      "Epoch [3/5], Training Loss: 0.1778, Training IoU: 0.7290, Training Dice: 0.8204, Training Pixel Acc: 0.9691\n"
     ]
    },
    {
     "name": "stderr",
     "output_type": "stream",
     "text": [
      "Validation: 100%|██████████| 347/347 [00:30<00:00, 11.21it/s]\n"
     ]
    },
    {
     "name": "stdout",
     "output_type": "stream",
     "text": [
      "Epoch [3/5] Validation - Loss: 0.1596, IoU: 0.7525, Dice: 0.8363, Pixel acc: 0.9767206285460195\n",
      "\n"
     ]
    },
    {
     "name": "stderr",
     "output_type": "stream",
     "text": [
      "Epoch [4/5] Training: 100%|██████████| 1387/1387 [02:48<00:00,  8.25it/s]\n"
     ]
    },
    {
     "name": "stdout",
     "output_type": "stream",
     "text": [
      "Epoch [4/5], Training Loss: 0.2126, Training IoU: 0.6946, Training Dice: 0.7848, Training Pixel Acc: 0.9644\n"
     ]
    },
    {
     "name": "stderr",
     "output_type": "stream",
     "text": [
      "Validation: 100%|██████████| 347/347 [00:31<00:00, 11.06it/s]\n"
     ]
    },
    {
     "name": "stdout",
     "output_type": "stream",
     "text": [
      "Epoch [4/5] Validation - Loss: 0.1596, IoU: 0.7502, Dice: 0.8366, Pixel acc: 0.9755757356583213\n",
      "\n"
     ]
    },
    {
     "name": "stderr",
     "output_type": "stream",
     "text": [
      "Epoch [5/5] Training: 100%|██████████| 1387/1387 [02:48<00:00,  8.21it/s]\n"
     ]
    },
    {
     "name": "stdout",
     "output_type": "stream",
     "text": [
      "Epoch [5/5], Training Loss: 0.1728, Training IoU: 0.7339, Training Dice: 0.8254, Training Pixel Acc: 0.9699\n"
     ]
    },
    {
     "name": "stderr",
     "output_type": "stream",
     "text": [
      "Validation: 100%|██████████| 347/347 [00:31<00:00, 11.09it/s]\n"
     ]
    },
    {
     "name": "stdout",
     "output_type": "stream",
     "text": [
      "Epoch [5/5] Validation - Loss: 0.1600, IoU: 0.7527, Dice: 0.8363, Pixel acc: 0.9742185389274135\n",
      "\n",
      "Starting validation\n"
     ]
    },
    {
     "name": "stderr",
     "output_type": "stream",
     "text": [
      "Validation: 100%|██████████| 347/347 [00:30<00:00, 11.28it/s]\n",
      "[I 2024-11-25 19:18:44,105] Trial 14 finished with value: 0.7526648845990046 and parameters: {'criterion': 'dice', 'use_batches': 'false', 'weight_decay': 0.004351725060960183, 'smooth': 0.987327695543755}. Best is trial 7 with value: 0.7896977721860255.\n"
     ]
    },
    {
     "name": "stdout",
     "output_type": "stream",
     "text": [
      "Validation Loss: 0.16000167815073765, IoU: 0.7526648845990046, Dice: 0.8363136526177037, Pixel accuracy: 0.9742185389274135\n",
      "Trial complete\n",
      "Starting trial\n",
      "Defining hyperparameters\n",
      "Creating model and image processor\n"
     ]
    },
    {
     "name": "stderr",
     "output_type": "stream",
     "text": [
      "Some weights of Mask2FormerForUniversalSegmentation were not initialized from the model checkpoint at facebook/mask2former-swin-base-IN21k-ade-semantic and are newly initialized because the shapes did not match:\n",
      "- class_predictor.weight: found shape torch.Size([151, 256]) in the checkpoint and torch.Size([3, 256]) in the model instantiated\n",
      "- class_predictor.bias: found shape torch.Size([151]) in the checkpoint and torch.Size([3]) in the model instantiated\n",
      "- criterion.empty_weight: found shape torch.Size([151]) in the checkpoint and torch.Size([3]) in the model instantiated\n",
      "You should probably TRAIN this model on a down-stream task to be able to use it for predictions and inference.\n"
     ]
    },
    {
     "name": "stdout",
     "output_type": "stream",
     "text": [
      "Creating dataloaders\n",
      "Defining optimizer\n",
      "Defining loss function\n",
      "Starting training\n"
     ]
    },
    {
     "name": "stderr",
     "output_type": "stream",
     "text": [
      "Epoch [1/5] Training: 100%|██████████| 1387/1387 [02:49<00:00,  8.21it/s]\n"
     ]
    },
    {
     "name": "stdout",
     "output_type": "stream",
     "text": [
      "Epoch [1/5], Training Loss: 3.6486, Training IoU: 0.6068, Training Dice: 0.7041, Training Pixel Acc: 0.9389\n"
     ]
    },
    {
     "name": "stderr",
     "output_type": "stream",
     "text": [
      "Validation: 100%|██████████| 347/347 [00:30<00:00, 11.29it/s]\n"
     ]
    },
    {
     "name": "stdout",
     "output_type": "stream",
     "text": [
      "Epoch [1/5] Validation - Loss: 3.0662, IoU: 0.7371, Dice: 0.8223, Pixel acc: 0.9720462502251441\n",
      "\n"
     ]
    },
    {
     "name": "stderr",
     "output_type": "stream",
     "text": [
      "Epoch [2/5] Training: 100%|██████████| 1387/1387 [02:51<00:00,  8.10it/s]\n"
     ]
    },
    {
     "name": "stdout",
     "output_type": "stream",
     "text": [
      "Epoch [2/5], Training Loss: 3.2108, Training IoU: 0.7002, Training Dice: 0.7944, Training Pixel Acc: 0.9641\n"
     ]
    },
    {
     "name": "stderr",
     "output_type": "stream",
     "text": [
      "Validation: 100%|██████████| 347/347 [00:31<00:00, 10.91it/s]\n"
     ]
    },
    {
     "name": "stdout",
     "output_type": "stream",
     "text": [
      "Epoch [2/5] Validation - Loss: 3.0132, IoU: 0.7305, Dice: 0.8195, Pixel acc: 0.9692746912711635\n",
      "\n"
     ]
    },
    {
     "name": "stderr",
     "output_type": "stream",
     "text": [
      "Epoch [3/5] Training: 100%|██████████| 1387/1387 [02:50<00:00,  8.15it/s]\n"
     ]
    },
    {
     "name": "stdout",
     "output_type": "stream",
     "text": [
      "Epoch [3/5], Training Loss: 3.1673, Training IoU: 0.7067, Training Dice: 0.8000, Training Pixel Acc: 0.9636\n"
     ]
    },
    {
     "name": "stderr",
     "output_type": "stream",
     "text": [
      "Validation: 100%|██████████| 347/347 [00:31<00:00, 11.05it/s]\n"
     ]
    },
    {
     "name": "stdout",
     "output_type": "stream",
     "text": [
      "Epoch [3/5] Validation - Loss: 2.9116, IoU: 0.7609, Dice: 0.8431, Pixel acc: 0.9768933562792688\n",
      "\n"
     ]
    },
    {
     "name": "stderr",
     "output_type": "stream",
     "text": [
      "Epoch [4/5] Training: 100%|██████████| 1387/1387 [02:49<00:00,  8.17it/s]\n"
     ]
    },
    {
     "name": "stdout",
     "output_type": "stream",
     "text": [
      "Epoch [4/5], Training Loss: 3.0964, Training IoU: 0.7217, Training Dice: 0.8130, Training Pixel Acc: 0.9688\n"
     ]
    },
    {
     "name": "stderr",
     "output_type": "stream",
     "text": [
      "Validation: 100%|██████████| 347/347 [00:30<00:00, 11.36it/s]\n"
     ]
    },
    {
     "name": "stdout",
     "output_type": "stream",
     "text": [
      "Epoch [4/5] Validation - Loss: 2.8658, IoU: 0.7585, Dice: 0.8430, Pixel acc: 0.972618256934438\n",
      "\n"
     ]
    },
    {
     "name": "stderr",
     "output_type": "stream",
     "text": [
      "Epoch [5/5] Training: 100%|██████████| 1387/1387 [02:50<00:00,  8.12it/s]\n"
     ]
    },
    {
     "name": "stdout",
     "output_type": "stream",
     "text": [
      "Epoch [5/5], Training Loss: 3.0379, Training IoU: 0.7308, Training Dice: 0.8213, Training Pixel Acc: 0.9692\n"
     ]
    },
    {
     "name": "stderr",
     "output_type": "stream",
     "text": [
      "Validation: 100%|██████████| 347/347 [00:30<00:00, 11.24it/s]\n"
     ]
    },
    {
     "name": "stdout",
     "output_type": "stream",
     "text": [
      "Epoch [5/5] Validation - Loss: 3.0316, IoU: 0.7532, Dice: 0.8358, Pixel acc: 0.9767886994551513\n",
      "\n",
      "Starting validation\n"
     ]
    },
    {
     "name": "stderr",
     "output_type": "stream",
     "text": [
      "Validation: 100%|██████████| 347/347 [00:31<00:00, 10.87it/s]\n",
      "[I 2024-11-25 19:36:05,057] Trial 15 finished with value: 0.7531591472537098 and parameters: {'criterion': 'boundary', 'use_batches': 'false', 'weight_decay': 0.001572723256299836, 'smooth': 0.00033731776696746226, 'threshold_low_loss': 1, 'boundary_weight': 4.695332827365136}. Best is trial 7 with value: 0.7896977721860255.\n"
     ]
    },
    {
     "name": "stdout",
     "output_type": "stream",
     "text": [
      "Validation Loss: 3.031613701444538, IoU: 0.7531591472537098, Dice: 0.8358327073835292, Pixel accuracy: 0.9767886994551513\n",
      "Trial complete\n",
      "Starting trial\n",
      "Defining hyperparameters\n",
      "Creating model and image processor\n"
     ]
    },
    {
     "name": "stderr",
     "output_type": "stream",
     "text": [
      "Some weights of Mask2FormerForUniversalSegmentation were not initialized from the model checkpoint at facebook/mask2former-swin-base-IN21k-ade-semantic and are newly initialized because the shapes did not match:\n",
      "- class_predictor.weight: found shape torch.Size([151, 256]) in the checkpoint and torch.Size([3, 256]) in the model instantiated\n",
      "- class_predictor.bias: found shape torch.Size([151]) in the checkpoint and torch.Size([3]) in the model instantiated\n",
      "- criterion.empty_weight: found shape torch.Size([151]) in the checkpoint and torch.Size([3]) in the model instantiated\n",
      "You should probably TRAIN this model on a down-stream task to be able to use it for predictions and inference.\n"
     ]
    },
    {
     "name": "stdout",
     "output_type": "stream",
     "text": [
      "Creating dataloaders\n",
      "Defining optimizer\n",
      "Defining loss function\n",
      "Starting training\n"
     ]
    },
    {
     "name": "stderr",
     "output_type": "stream",
     "text": [
      "Validation: 100%|██████████| 347/347 [00:30<00:00, 11.30it/s],  8.12it/s]\n"
     ]
    },
    {
     "name": "stdout",
     "output_type": "stream",
     "text": [
      "Epoch [1/5] Validation - Loss: 6.1457, IoU: 0.0836, Dice: 0.0836, Pixel acc: 0.8715888911090598\n",
      "\n",
      "Stopping criteria: not enough potential!\n",
      "Starting validation\n"
     ]
    },
    {
     "name": "stderr",
     "output_type": "stream",
     "text": [
      "Validation: 100%|██████████| 347/347 [00:31<00:00, 10.88it/s]\n",
      "[I 2024-11-25 19:40:00,482] Trial 16 finished with value: 0.08357348703170028 and parameters: {'criterion': 'scaled', 'use_batches': 'false', 'weight_decay': 0.00031055025112709366, 'smooth': 1.1051077451318162e-05, 'threshold_low_loss': 25}. Best is trial 7 with value: 0.7896977721860255.\n"
     ]
    },
    {
     "name": "stdout",
     "output_type": "stream",
     "text": [
      "Validation Loss: 6.145724011429449, IoU: 0.08357348703170028, Dice: 0.08357348703170028, Pixel accuracy: 0.8715888911090598\n",
      "Trial complete\n",
      "Starting trial\n",
      "Defining hyperparameters\n",
      "Creating model and image processor\n"
     ]
    },
    {
     "name": "stderr",
     "output_type": "stream",
     "text": [
      "Some weights of Mask2FormerForUniversalSegmentation were not initialized from the model checkpoint at facebook/mask2former-swin-base-IN21k-ade-semantic and are newly initialized because the shapes did not match:\n",
      "- class_predictor.weight: found shape torch.Size([151, 256]) in the checkpoint and torch.Size([3, 256]) in the model instantiated\n",
      "- class_predictor.bias: found shape torch.Size([151]) in the checkpoint and torch.Size([3]) in the model instantiated\n",
      "- criterion.empty_weight: found shape torch.Size([151]) in the checkpoint and torch.Size([3]) in the model instantiated\n",
      "You should probably TRAIN this model on a down-stream task to be able to use it for predictions and inference.\n"
     ]
    },
    {
     "name": "stdout",
     "output_type": "stream",
     "text": [
      "Creating dataloaders\n",
      "Defining optimizer\n",
      "Defining loss function\n",
      "Starting training\n"
     ]
    },
    {
     "name": "stderr",
     "output_type": "stream",
     "text": [
      "Epoch [1/5] Training: 100%|██████████| 1387/1387 [02:48<00:00,  8.21it/s]\n"
     ]
    },
    {
     "name": "stdout",
     "output_type": "stream",
     "text": [
      "Epoch [1/5], Training Loss: 0.2891, Training IoU: 0.6146, Training Dice: 0.7155, Training Pixel Acc: 0.9444\n"
     ]
    },
    {
     "name": "stderr",
     "output_type": "stream",
     "text": [
      "Validation: 100%|██████████| 347/347 [00:31<00:00, 11.00it/s]\n"
     ]
    },
    {
     "name": "stdout",
     "output_type": "stream",
     "text": [
      "Epoch [1/5] Validation - Loss: 0.1819, IoU: 0.7272, Dice: 0.8181, Pixel acc: 0.9752513874504684\n",
      "\n"
     ]
    },
    {
     "name": "stderr",
     "output_type": "stream",
     "text": [
      "Epoch [2/5] Training: 100%|██████████| 1387/1387 [02:46<00:00,  8.33it/s]\n"
     ]
    },
    {
     "name": "stdout",
     "output_type": "stream",
     "text": [
      "Epoch [2/5], Training Loss: 0.2011, Training IoU: 0.7066, Training Dice: 0.7996, Training Pixel Acc: 0.9643\n"
     ]
    },
    {
     "name": "stderr",
     "output_type": "stream",
     "text": [
      "Validation: 100%|██████████| 347/347 [00:30<00:00, 11.23it/s]\n"
     ]
    },
    {
     "name": "stdout",
     "output_type": "stream",
     "text": [
      "Epoch [2/5] Validation - Loss: 0.1757, IoU: 0.7359, Dice: 0.8244, Pixel acc: 0.9765827277895353\n",
      "\n"
     ]
    },
    {
     "name": "stderr",
     "output_type": "stream",
     "text": [
      "Epoch [3/5] Training: 100%|██████████| 1387/1387 [02:48<00:00,  8.21it/s]\n"
     ]
    },
    {
     "name": "stdout",
     "output_type": "stream",
     "text": [
      "Epoch [3/5], Training Loss: 0.1970, Training IoU: 0.7112, Training Dice: 0.8040, Training Pixel Acc: 0.9666\n"
     ]
    },
    {
     "name": "stderr",
     "output_type": "stream",
     "text": [
      "Validation: 100%|██████████| 347/347 [00:30<00:00, 11.24it/s]\n"
     ]
    },
    {
     "name": "stdout",
     "output_type": "stream",
     "text": [
      "Epoch [3/5] Validation - Loss: 0.1797, IoU: 0.7279, Dice: 0.8202, Pixel acc: 0.9737733516638148\n",
      "\n"
     ]
    },
    {
     "name": "stderr",
     "output_type": "stream",
     "text": [
      "Epoch [4/5] Training: 100%|██████████| 1387/1387 [02:49<00:00,  8.19it/s]\n"
     ]
    },
    {
     "name": "stdout",
     "output_type": "stream",
     "text": [
      "Epoch [4/5], Training Loss: 0.1765, Training IoU: 0.7350, Training Dice: 0.8235, Training Pixel Acc: 0.9701\n"
     ]
    },
    {
     "name": "stderr",
     "output_type": "stream",
     "text": [
      "Validation: 100%|██████████| 347/347 [00:30<00:00, 11.38it/s]\n"
     ]
    },
    {
     "name": "stdout",
     "output_type": "stream",
     "text": [
      "Epoch [4/5] Validation - Loss: 0.1614, IoU: 0.7498, Dice: 0.8387, Pixel acc: 0.9766945962603566\n",
      "\n"
     ]
    },
    {
     "name": "stderr",
     "output_type": "stream",
     "text": [
      "Epoch [5/5] Training: 100%|██████████| 1387/1387 [02:49<00:00,  8.17it/s]\n"
     ]
    },
    {
     "name": "stdout",
     "output_type": "stream",
     "text": [
      "Epoch [5/5], Training Loss: 0.1681, Training IoU: 0.7451, Training Dice: 0.8323, Training Pixel Acc: 0.9721\n"
     ]
    },
    {
     "name": "stderr",
     "output_type": "stream",
     "text": [
      "Validation: 100%|██████████| 347/347 [00:31<00:00, 11.16it/s]\n"
     ]
    },
    {
     "name": "stdout",
     "output_type": "stream",
     "text": [
      "Epoch [5/5] Validation - Loss: 0.2203, IoU: 0.6789, Dice: 0.7820, Pixel acc: 0.9739597991151837\n",
      "\n",
      "Starting validation\n"
     ]
    },
    {
     "name": "stderr",
     "output_type": "stream",
     "text": [
      "Validation: 100%|██████████| 347/347 [00:31<00:00, 10.91it/s]\n",
      "[I 2024-11-25 19:57:13,076] Trial 17 finished with value: 0.6789129439160794 and parameters: {'criterion': 'dice', 'use_batches': 'false', 'weight_decay': 0.001345096511465889, 'smooth': 0.001064910124677693}. Best is trial 7 with value: 0.7896977721860255.\n"
     ]
    },
    {
     "name": "stdout",
     "output_type": "stream",
     "text": [
      "Validation Loss: 0.2203467807783517, IoU: 0.6789129439160794, Dice: 0.7819992884054847, Pixel accuracy: 0.9739597991151837\n",
      "Trial complete\n",
      "Starting trial\n",
      "Defining hyperparameters\n",
      "Creating model and image processor\n"
     ]
    },
    {
     "name": "stderr",
     "output_type": "stream",
     "text": [
      "Some weights of Mask2FormerForUniversalSegmentation were not initialized from the model checkpoint at facebook/mask2former-swin-base-IN21k-ade-semantic and are newly initialized because the shapes did not match:\n",
      "- class_predictor.weight: found shape torch.Size([151, 256]) in the checkpoint and torch.Size([3, 256]) in the model instantiated\n",
      "- class_predictor.bias: found shape torch.Size([151]) in the checkpoint and torch.Size([3]) in the model instantiated\n",
      "- criterion.empty_weight: found shape torch.Size([151]) in the checkpoint and torch.Size([3]) in the model instantiated\n",
      "You should probably TRAIN this model on a down-stream task to be able to use it for predictions and inference.\n"
     ]
    },
    {
     "name": "stdout",
     "output_type": "stream",
     "text": [
      "Creating dataloaders\n",
      "Defining optimizer\n",
      "Defining loss function\n",
      "Starting training\n"
     ]
    },
    {
     "name": "stderr",
     "output_type": "stream",
     "text": [
      "Epoch [1/5] Training:  60%|██████    | 168/278 [00:58<00:37,  2.92it/s]"
     ]
    }
   ],
   "source": [
    "# Create study\n",
    "study = optuna.create_study(direction='maximize')\n",
    "study.optimize(objective, n_trials=NUM_TRIALS, gc_after_trial=True)"
   ]
  },
  {
   "cell_type": "code",
   "execution_count": null,
   "id": "d9a9eb25-c265-4248-8e89-3c0fbe27b07e",
   "metadata": {},
   "outputs": [],
   "source": [
    "from pickle import dump\n",
    "from datetime import datetime\n",
    "\n",
    "# Your data to save\n",
    "hyp_results = {\n",
    "    \"study\": study,\n",
    "    \"trial_metrics\": metrics,\n",
    "    \"datetime\": datetime.now()\n",
    "}\n",
    "\n",
    "# Format datetime for file name (e.g., '2024-11-24_14-35-10')\n",
    "formatted_datetime = datetime.now().strftime('%Y-%m-%d_%H-%M-%S')\n",
    "\n",
    "# Save to a pickle file with a safe file name\n",
    "with open(f'final_hyp_results_{formatted_datetime}.pkl', 'wb') as f:\n",
    "    dump(hyp_results, f)\n",
    "\n",
    "print(f\"File saved as final_hyp_results_{formatted_datetime}.pkl\")"
   ]
  },
  {
   "cell_type": "code",
   "execution_count": 15,
   "id": "4189354e-ac10-476e-87ea-355200710e9e",
   "metadata": {},
   "outputs": [
    {
     "name": "stdout",
     "output_type": "stream",
     "text": [
      "Best Trial Parameters: {'criterion': 'scaled', 'use_batches': 'false', 'weight_decay': 0.0013032347157458826, 'smooth': 0.31038665868329945, 'threshold_low_loss': 21}\n",
      "Best Trial Metric (Objective Value): 0.7896977721860255\n",
      "Number of Trials: 30\n"
     ]
    }
   ],
   "source": [
    "# Get the best trial\n",
    "best_trial = study.best_trial\n",
    "\n",
    "# Access the parameters and metric\n",
    "print(\"Best Trial Parameters:\", best_trial.params)\n",
    "print(\"Best Trial Metric (Objective Value):\", best_trial.value)\n",
    "\n",
    "# Additional information\n",
    "print(\"Number of Trials:\", len(study.trials))"
   ]
  },
  {
   "cell_type": "code",
   "execution_count": 14,
   "id": "81f529d6-78d6-4dcc-8d27-65841c809fed",
   "metadata": {},
   "outputs": [
    {
     "name": "stdout",
     "output_type": "stream",
     "text": [
      "Done!\n"
     ]
    }
   ],
   "source": [
    "print(\"Done!\")"
   ]
  },
  {
   "cell_type": "code",
   "execution_count": 16,
   "id": "6371faaf-0ba4-4986-9b51-89e53bd5b3d4",
   "metadata": {},
   "outputs": [
    {
     "name": "stdout",
     "output_type": "stream",
     "text": [
      "0.9742832967679794\n"
     ]
    }
   ],
   "source": [
    "for trial_metrics in hyp_results['trial_metrics']:\n",
    "    if trial_metrics['trial'].params == study.best_trial.params:\n",
    "        print(max(trial_metrics['train']['pixel_acc']))"
   ]
  },
  {
   "cell_type": "markdown",
   "id": "8e0c964f-a05a-40f0-9929-55f647455dc7",
   "metadata": {},
   "source": [
    "## Visualize"
   ]
  },
  {
   "cell_type": "code",
   "execution_count": 40,
   "id": "9d99c0ac-03a5-4e91-a18e-2094f196c8bc",
   "metadata": {},
   "outputs": [
    {
     "data": {
      "image/png": "[encoded data removed]",
      "text/plain": [
       "<Figure size 1440x1800 with 20 Axes>"
      ]
     },
     "metadata": {
      "needs_background": "light"
     },
     "output_type": "display_data"
    }
   ],
   "source": [
    "import matplotlib.pyplot as plt\n",
    "import pickle\n",
    "import numpy as np\n",
    "\n",
    "def plot_hyp_results(file_name, top_k=None):\n",
    "    # Load data from pickle file\n",
    "    with open(file_name, 'rb') as f:\n",
    "        hyp_results_ = pickle.load(f)\n",
    "    \n",
    "    trial_metrics = hyp_results_[\"trial_metrics\"]\n",
    "    metrics_list = ['loss', 'iou', 'dice', 'pixel_acc']\n",
    "\n",
    "    # Get the top_k\n",
    "    included_i = np.argsort([t.value for t in hyp_results_['study'].get_trials()])[::-1][:top_k]\n",
    "    \n",
    "    # Create a figure with subplots\n",
    "    num_trials = len(included_i)\n",
    "    fig, axes = plt.subplots(num_trials, len(metrics_list), figsize=(20, 5 * num_trials), constrained_layout=True)\n",
    "    \n",
    "    # Ensure axes is a 2D array even if there's only one trial\n",
    "    if num_trials == 1:\n",
    "        axes = [axes]\n",
    "\n",
    "    for i, trial_i in enumerate(included_i):\n",
    "        if trial_i not in included_i: continue\n",
    "\n",
    "        trial_data = trial_metrics[trial_i]\n",
    "        train_metrics = trial_data['train']\n",
    "        val_metrics = trial_data['val']\n",
    "        \n",
    "        for j, metric in enumerate(metrics_list):\n",
    "            ax = axes[i][j]\n",
    "            ax.plot(train_metrics[metric], label='Train', color='blue', linestyle='-')\n",
    "            ax.plot(val_metrics[metric], label='Validation', color='orange', linestyle='--')\n",
    "            \n",
    "            # Titles and labels\n",
    "            ax.set_title(f\"Trial {trial_i + 1} - {metric.capitalize()} Evolution\")\n",
    "            ax.set_xlabel(\"Epochs\")\n",
    "            ax.set_ylabel(metric.capitalize())\n",
    "            ax.legend()\n",
    "            \n",
    "            # Grid for better readability\n",
    "            ax.grid(True, linestyle='--', alpha=0.6)\n",
    "    \n",
    "    # Set a main title for the entire figure\n",
    "    fig.suptitle(\"Metrics Evolution Across Epochs for Trials\", fontsize=16)\n",
    "    plt.show()\n",
    "\n",
    "# Example usage\n",
    "file_name = \"hyp_results_2024-11-24_23-27-36.pkl\"\n",
    "plot_hyp_results(file_name, top_k=5)"
   ]
  },
  {
   "cell_type": "code",
   "execution_count": 37,
   "id": "94fa0325-7b02-4877-8f62-799127af91e9",
   "metadata": {},
   "outputs": [],
   "source": [
    "# Load data from pickle file\n",
    "with open(file_name, 'rb') as f:\n",
    "    hyp_results_ = pickle.load(f)"
   ]
  },
  {
   "cell_type": "code",
   "execution_count": null,
   "id": "4d6fb3f1-9c3a-46d6-9974-594ac372fa0a",
   "metadata": {},
   "outputs": [],
   "source": []
  }
 ],
 "metadata": {
  "kernelspec": {
   "display_name": "Python 3 (ipykernel)",
   "language": "python",
   "name": "python3"
  },
  "language_info": {
   "codemirror_mode": {
    "name": "ipython",
    "version": 3
   },
   "file_extension": ".py",
   "mimetype": "text/x-python",
   "name": "python",
   "nbconvert_exporter": "python",
   "pygments_lexer": "ipython3",
   "version": "3.10.12"
  }
 },
 "nbformat": 4,
 "nbformat_minor": 5
}
